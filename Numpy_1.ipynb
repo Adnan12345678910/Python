{
 "cells": [
  {
   "cell_type": "markdown",
   "id": "167516cf",
   "metadata": {},
   "source": [
    "# <h1><center>Numpy</center></h1>"
   ]
  },
  {
   "cell_type": "code",
   "execution_count": 1,
   "id": "0928eb72",
   "metadata": {},
   "outputs": [],
   "source": [
    "import numpy as np"
   ]
  },
  {
   "cell_type": "markdown",
   "id": "9a442c35",
   "metadata": {},
   "source": [
    "# <h2><center>1-D array</center></h2>\n"
   ]
  },
  {
   "cell_type": "code",
   "execution_count": 2,
   "id": "29851382",
   "metadata": {},
   "outputs": [],
   "source": [
    "l1=[1,2,3,5,6,8,9]"
   ]
  },
  {
   "cell_type": "code",
   "execution_count": 3,
   "id": "c964c19e",
   "metadata": {},
   "outputs": [],
   "source": [
    "arr1=np.array(l1)"
   ]
  },
  {
   "cell_type": "code",
   "execution_count": 4,
   "id": "30936553",
   "metadata": {},
   "outputs": [
    {
     "data": {
      "text/plain": [
       "array([1, 2, 3, 5, 6, 8, 9])"
      ]
     },
     "execution_count": 4,
     "metadata": {},
     "output_type": "execute_result"
    },
    {
     "data": {
      "text/plain": [
       "array([1, 2, 3, 5, 6, 8, 9])"
      ]
     },
     "execution_count": 4,
     "metadata": {},
     "output_type": "execute_result"
    }
   ],
   "source": [
    "arr1"
   ]
  },
  {
   "cell_type": "code",
   "execution_count": 5,
   "id": "82f2a2da",
   "metadata": {},
   "outputs": [],
   "source": [
    "l2=[2,3,4,\"hello\"]"
   ]
  },
  {
   "cell_type": "code",
   "execution_count": 6,
   "id": "d2562fe3",
   "metadata": {},
   "outputs": [],
   "source": [
    "arr2=np.array(l2)"
   ]
  },
  {
   "cell_type": "markdown",
   "id": "b7b15e7d",
   "metadata": {},
   "source": [
    "\n",
    "# <h2><center>2-D array<center><h2>"
   ]
  },
  {
   "cell_type": "code",
   "execution_count": 7,
   "id": "2e249bd7",
   "metadata": {},
   "outputs": [],
   "source": [
    "l3=[[1,2,3],[5,6,7],[4,6,9]]"
   ]
  },
  {
   "cell_type": "code",
   "execution_count": 8,
   "id": "931d5d3f",
   "metadata": {},
   "outputs": [],
   "source": [
    "arr3=np.array(l3)"
   ]
  },
  {
   "cell_type": "code",
   "execution_count": 9,
   "id": "32c5355d",
   "metadata": {},
   "outputs": [
    {
     "data": {
      "text/plain": [
       "array([[1, 2, 3],\n",
       "       [5, 6, 7],\n",
       "       [4, 6, 9]])"
      ]
     },
     "execution_count": 9,
     "metadata": {},
     "output_type": "execute_result"
    },
    {
     "data": {
      "text/plain": [
       "array([[1, 2, 3],\n",
       "       [5, 6, 7],\n",
       "       [4, 6, 9]])"
      ]
     },
     "execution_count": 9,
     "metadata": {},
     "output_type": "execute_result"
    }
   ],
   "source": [
    "arr3"
   ]
  },
  {
   "cell_type": "code",
   "execution_count": 10,
   "id": "d75341f7",
   "metadata": {},
   "outputs": [],
   "source": [
    "l4=[[\"Mathematics\",\"English\",\"Hindi\",\"Sanskrit\"],[90,89,77,56],[66,73,34,54],[56,44,64,76]]"
   ]
  },
  {
   "cell_type": "code",
   "execution_count": 11,
   "id": "9768f9fc",
   "metadata": {},
   "outputs": [],
   "source": [
    "arr4=np.array(l4)"
   ]
  },
  {
   "cell_type": "code",
   "execution_count": 12,
   "id": "6eb4fe12",
   "metadata": {},
   "outputs": [
    {
     "data": {
      "text/plain": [
       "array([['Mathematics', 'English', 'Hindi', 'Sanskrit'],\n",
       "       ['90', '89', '77', '56'],\n",
       "       ['66', '73', '34', '54'],\n",
       "       ['56', '44', '64', '76']], dtype='<U11')"
      ]
     },
     "execution_count": 12,
     "metadata": {},
     "output_type": "execute_result"
    },
    {
     "data": {
      "text/plain": [
       "array([['Mathematics', 'English', 'Hindi', 'Sanskrit'],\n",
       "       ['90', '89', '77', '56'],\n",
       "       ['66', '73', '34', '54'],\n",
       "       ['56', '44', '64', '76']], dtype='<U11')"
      ]
     },
     "execution_count": 12,
     "metadata": {},
     "output_type": "execute_result"
    }
   ],
   "source": [
    "arr4"
   ]
  },
  {
   "cell_type": "markdown",
   "id": "da055933",
   "metadata": {},
   "source": [
    "\n",
    "# <h2><center>3-D array<center><h2>"
   ]
  },
  {
   "cell_type": "code",
   "execution_count": 13,
   "id": "910982fd",
   "metadata": {},
   "outputs": [],
   "source": [
    "l5=[[[1,2],[3,6,]],[[3,7],[6,9]]]"
   ]
  },
  {
   "cell_type": "code",
   "execution_count": 14,
   "id": "30705792",
   "metadata": {},
   "outputs": [],
   "source": [
    "arr5=np.array(l5)"
   ]
  },
  {
   "cell_type": "code",
   "execution_count": 15,
   "id": "77004692",
   "metadata": {},
   "outputs": [
    {
     "data": {
      "text/plain": [
       "array([[[1, 2],\n",
       "        [3, 6]],\n",
       "\n",
       "       [[3, 7],\n",
       "        [6, 9]]])"
      ]
     },
     "execution_count": 15,
     "metadata": {},
     "output_type": "execute_result"
    },
    {
     "data": {
      "text/plain": [
       "array([[[1, 2],\n",
       "        [3, 6]],\n",
       "\n",
       "       [[3, 7],\n",
       "        [6, 9]]])"
      ]
     },
     "execution_count": 15,
     "metadata": {},
     "output_type": "execute_result"
    }
   ],
   "source": [
    "arr5"
   ]
  },
  {
   "cell_type": "code",
   "execution_count": 16,
   "id": "18e74ca6",
   "metadata": {},
   "outputs": [],
   "source": [
    "l6=[[[1,2,6],[3,6,11],[4,8,31]],[[3,7,5],[6,9,23],[3,66,3]]]"
   ]
  },
  {
   "cell_type": "code",
   "execution_count": 17,
   "id": "135a00bd",
   "metadata": {},
   "outputs": [],
   "source": [
    "arr6=np.array(l6)"
   ]
  },
  {
   "cell_type": "code",
   "execution_count": 18,
   "id": "4793ca73",
   "metadata": {},
   "outputs": [
    {
     "data": {
      "text/plain": [
       "array([[[ 1,  2,  6],\n",
       "        [ 3,  6, 11],\n",
       "        [ 4,  8, 31]],\n",
       "\n",
       "       [[ 3,  7,  5],\n",
       "        [ 6,  9, 23],\n",
       "        [ 3, 66,  3]]])"
      ]
     },
     "execution_count": 18,
     "metadata": {},
     "output_type": "execute_result"
    },
    {
     "data": {
      "text/plain": [
       "array([[[ 1,  2,  6],\n",
       "        [ 3,  6, 11],\n",
       "        [ 4,  8, 31]],\n",
       "\n",
       "       [[ 3,  7,  5],\n",
       "        [ 6,  9, 23],\n",
       "        [ 3, 66,  3]]])"
      ]
     },
     "execution_count": 18,
     "metadata": {},
     "output_type": "execute_result"
    }
   ],
   "source": [
    "arr6"
   ]
  },
  {
   "cell_type": "markdown",
   "id": "343875bf",
   "metadata": {},
   "source": [
    "# <h2><center>Empty array<center><h2>"
   ]
  },
  {
   "cell_type": "code",
   "execution_count": 19,
   "id": "25f32955",
   "metadata": {},
   "outputs": [],
   "source": [
    "arr7=np.empty((4,5))"
   ]
  },
  {
   "cell_type": "code",
   "execution_count": 20,
   "id": "9570d9b5",
   "metadata": {},
   "outputs": [
    {
     "data": {
      "text/plain": [
       "array([[0., 0., 0., 0., 0.],\n",
       "       [0., 0., 0., 0., 0.],\n",
       "       [0., 0., 0., 0., 0.],\n",
       "       [0., 0., 0., 0., 0.]])"
      ]
     },
     "execution_count": 20,
     "metadata": {},
     "output_type": "execute_result"
    },
    {
     "data": {
      "text/plain": [
       "array([[0., 0., 0., 0., 0.],\n",
       "       [0., 0., 0., 0., 0.],\n",
       "       [0., 0., 0., 0., 0.],\n",
       "       [0., 0., 0., 0., 0.]])"
      ]
     },
     "execution_count": 20,
     "metadata": {},
     "output_type": "execute_result"
    }
   ],
   "source": [
    "arr7"
   ]
  },
  {
   "cell_type": "code",
   "execution_count": 21,
   "id": "8c7b743e",
   "metadata": {},
   "outputs": [],
   "source": [
    "arr8=np.empty((3,3))"
   ]
  },
  {
   "cell_type": "code",
   "execution_count": 22,
   "id": "1381f8ad",
   "metadata": {},
   "outputs": [
    {
     "data": {
      "text/plain": [
       "array([[6.23042070e-307, 4.67296746e-307, 1.69121096e-306],\n",
       "       [4.22790856e-307, 1.89142482e-307, 1.42419938e-306],\n",
       "       [7.56603881e-307, 8.45603440e-307, 1.07262464e+155]])"
      ]
     },
     "execution_count": 22,
     "metadata": {},
     "output_type": "execute_result"
    },
    {
     "data": {
      "text/plain": [
       "array([[6.23042070e-307, 4.67296746e-307, 1.69121096e-306],\n",
       "       [4.22790856e-307, 1.89142482e-307, 1.42419938e-306],\n",
       "       [7.56603881e-307, 8.45603440e-307, 1.07262464e+155]])"
      ]
     },
     "execution_count": 22,
     "metadata": {},
     "output_type": "execute_result"
    }
   ],
   "source": [
    "arr8"
   ]
  },
  {
   "cell_type": "code",
   "execution_count": 23,
   "id": "ab0660b2",
   "metadata": {},
   "outputs": [
    {
     "data": {
      "text/plain": [
       "'---------------------------------------------------------------------------------------------'"
      ]
     },
     "execution_count": 23,
     "metadata": {},
     "output_type": "execute_result"
    },
    {
     "data": {
      "text/plain": [
       "'---------------------------------------------------------------------------------------------'"
      ]
     },
     "execution_count": 23,
     "metadata": {},
     "output_type": "execute_result"
    }
   ],
   "source": [
    "\"---------------------------------------------------------------------------------------------\""
   ]
  },
  {
   "cell_type": "markdown",
   "id": "d531dedb",
   "metadata": {},
   "source": [
    "# <h2><center>Zero array<center><h2>"
   ]
  },
  {
   "cell_type": "code",
   "execution_count": 24,
   "id": "0196017f",
   "metadata": {},
   "outputs": [],
   "source": [
    "arr9=np.zeros((3,3))"
   ]
  },
  {
   "cell_type": "code",
   "execution_count": 25,
   "id": "0d6a34cc",
   "metadata": {},
   "outputs": [
    {
     "data": {
      "text/plain": [
       "array([[0., 0., 0.],\n",
       "       [0., 0., 0.],\n",
       "       [0., 0., 0.]])"
      ]
     },
     "execution_count": 25,
     "metadata": {},
     "output_type": "execute_result"
    },
    {
     "data": {
      "text/plain": [
       "array([[0., 0., 0.],\n",
       "       [0., 0., 0.],\n",
       "       [0., 0., 0.]])"
      ]
     },
     "execution_count": 25,
     "metadata": {},
     "output_type": "execute_result"
    }
   ],
   "source": [
    "arr9 \n"
   ]
  },
  {
   "cell_type": "code",
   "execution_count": 26,
   "id": "d7070ce5",
   "metadata": {},
   "outputs": [],
   "source": [
    "arr10=np.zeros((3,3),dtype=int)"
   ]
  },
  {
   "cell_type": "code",
   "execution_count": 27,
   "id": "862f52db",
   "metadata": {},
   "outputs": [
    {
     "data": {
      "text/plain": [
       "array([[0, 0, 0],\n",
       "       [0, 0, 0],\n",
       "       [0, 0, 0]])"
      ]
     },
     "execution_count": 27,
     "metadata": {},
     "output_type": "execute_result"
    },
    {
     "data": {
      "text/plain": [
       "array([[0, 0, 0],\n",
       "       [0, 0, 0],\n",
       "       [0, 0, 0]])"
      ]
     },
     "execution_count": 27,
     "metadata": {},
     "output_type": "execute_result"
    }
   ],
   "source": [
    "arr10"
   ]
  },
  {
   "cell_type": "code",
   "execution_count": 28,
   "id": "98653831",
   "metadata": {},
   "outputs": [],
   "source": [
    "arr11=np.ones((3,3))"
   ]
  },
  {
   "cell_type": "code",
   "execution_count": 29,
   "id": "72555600",
   "metadata": {},
   "outputs": [
    {
     "data": {
      "text/plain": [
       "array([[1., 1., 1.],\n",
       "       [1., 1., 1.],\n",
       "       [1., 1., 1.]])"
      ]
     },
     "execution_count": 29,
     "metadata": {},
     "output_type": "execute_result"
    },
    {
     "data": {
      "text/plain": [
       "array([[1., 1., 1.],\n",
       "       [1., 1., 1.],\n",
       "       [1., 1., 1.]])"
      ]
     },
     "execution_count": 29,
     "metadata": {},
     "output_type": "execute_result"
    }
   ],
   "source": [
    "arr11"
   ]
  },
  {
   "cell_type": "code",
   "execution_count": 30,
   "id": "914cec0a",
   "metadata": {},
   "outputs": [],
   "source": [
    "arr12=np.ones((3,3),dtype=int)"
   ]
  },
  {
   "cell_type": "code",
   "execution_count": 31,
   "id": "b0fdea10",
   "metadata": {},
   "outputs": [
    {
     "data": {
      "text/plain": [
       "array([[1, 1, 1],\n",
       "       [1, 1, 1],\n",
       "       [1, 1, 1]])"
      ]
     },
     "execution_count": 31,
     "metadata": {},
     "output_type": "execute_result"
    },
    {
     "data": {
      "text/plain": [
       "array([[1, 1, 1],\n",
       "       [1, 1, 1],\n",
       "       [1, 1, 1]])"
      ]
     },
     "execution_count": 31,
     "metadata": {},
     "output_type": "execute_result"
    }
   ],
   "source": [
    "arr12"
   ]
  },
  {
   "cell_type": "markdown",
   "id": "83ea44c7",
   "metadata": {},
   "source": [
    "# ----------------------------------------------------------------------------------------"
   ]
  },
  {
   "cell_type": "code",
   "execution_count": 32,
   "id": "13428a15",
   "metadata": {},
   "outputs": [],
   "source": [
    "arr13=np.arange(2,8)"
   ]
  },
  {
   "cell_type": "code",
   "execution_count": 33,
   "id": "c55e175b",
   "metadata": {},
   "outputs": [
    {
     "data": {
      "text/plain": [
       "array([2, 3, 4, 5, 6, 7])"
      ]
     },
     "execution_count": 33,
     "metadata": {},
     "output_type": "execute_result"
    },
    {
     "data": {
      "text/plain": [
       "array([2, 3, 4, 5, 6, 7])"
      ]
     },
     "execution_count": 33,
     "metadata": {},
     "output_type": "execute_result"
    }
   ],
   "source": [
    "arr13"
   ]
  },
  {
   "cell_type": "code",
   "execution_count": 34,
   "id": "a4bc554d",
   "metadata": {},
   "outputs": [],
   "source": [
    "arr14=np.arange(3,23,4)"
   ]
  },
  {
   "cell_type": "code",
   "execution_count": 35,
   "id": "99954499",
   "metadata": {},
   "outputs": [
    {
     "data": {
      "text/plain": [
       "array([ 3,  7, 11, 15, 19])"
      ]
     },
     "execution_count": 35,
     "metadata": {},
     "output_type": "execute_result"
    },
    {
     "data": {
      "text/plain": [
       "array([ 3,  7, 11, 15, 19])"
      ]
     },
     "execution_count": 35,
     "metadata": {},
     "output_type": "execute_result"
    }
   ],
   "source": [
    "arr14"
   ]
  },
  {
   "cell_type": "code",
   "execution_count": 36,
   "id": "c98d2bbc",
   "metadata": {},
   "outputs": [],
   "source": [
    "arr15=np.linspace(0,20,5)"
   ]
  },
  {
   "cell_type": "code",
   "execution_count": 37,
   "id": "802b92dd",
   "metadata": {},
   "outputs": [
    {
     "data": {
      "text/plain": [
       "array([ 0.,  5., 10., 15., 20.])"
      ]
     },
     "execution_count": 37,
     "metadata": {},
     "output_type": "execute_result"
    },
    {
     "data": {
      "text/plain": [
       "array([ 0.,  5., 10., 15., 20.])"
      ]
     },
     "execution_count": 37,
     "metadata": {},
     "output_type": "execute_result"
    }
   ],
   "source": [
    "arr15"
   ]
  },
  {
   "cell_type": "code",
   "execution_count": 38,
   "id": "1e91ac54",
   "metadata": {},
   "outputs": [],
   "source": [
    "arr16=np.linspace(0,10,9)"
   ]
  },
  {
   "cell_type": "code",
   "execution_count": 39,
   "id": "1d22d3cc",
   "metadata": {},
   "outputs": [
    {
     "data": {
      "text/plain": [
       "array([ 0.  ,  1.25,  2.5 ,  3.75,  5.  ,  6.25,  7.5 ,  8.75, 10.  ])"
      ]
     },
     "execution_count": 39,
     "metadata": {},
     "output_type": "execute_result"
    },
    {
     "data": {
      "text/plain": [
       "array([ 0.  ,  1.25,  2.5 ,  3.75,  5.  ,  6.25,  7.5 ,  8.75, 10.  ])"
      ]
     },
     "execution_count": 39,
     "metadata": {},
     "output_type": "execute_result"
    }
   ],
   "source": [
    "arr16"
   ]
  },
  {
   "cell_type": "code",
   "execution_count": 40,
   "id": "0bd4c763",
   "metadata": {},
   "outputs": [],
   "source": [
    "arr17=np.logspace(2,9,10)"
   ]
  },
  {
   "cell_type": "code",
   "execution_count": 41,
   "id": "c47f8579",
   "metadata": {},
   "outputs": [
    {
     "data": {
      "text/plain": [
       "array([1.00000000e+02, 5.99484250e+02, 3.59381366e+03, 2.15443469e+04,\n",
       "       1.29154967e+05, 7.74263683e+05, 4.64158883e+06, 2.78255940e+07,\n",
       "       1.66810054e+08, 1.00000000e+09])"
      ]
     },
     "execution_count": 41,
     "metadata": {},
     "output_type": "execute_result"
    },
    {
     "data": {
      "text/plain": [
       "array([1.00000000e+02, 5.99484250e+02, 3.59381366e+03, 2.15443469e+04,\n",
       "       1.29154967e+05, 7.74263683e+05, 4.64158883e+06, 2.78255940e+07,\n",
       "       1.66810054e+08, 1.00000000e+09])"
      ]
     },
     "execution_count": 41,
     "metadata": {},
     "output_type": "execute_result"
    }
   ],
   "source": [
    "arr17"
   ]
  },
  {
   "cell_type": "code",
   "execution_count": 42,
   "id": "e2652415",
   "metadata": {},
   "outputs": [],
   "source": [
    "arr18=np.full((3,3),12)"
   ]
  },
  {
   "cell_type": "code",
   "execution_count": 43,
   "id": "e73618e7",
   "metadata": {},
   "outputs": [
    {
     "data": {
      "text/plain": [
       "array([[12, 12, 12],\n",
       "       [12, 12, 12],\n",
       "       [12, 12, 12]])"
      ]
     },
     "execution_count": 43,
     "metadata": {},
     "output_type": "execute_result"
    },
    {
     "data": {
      "text/plain": [
       "array([[12, 12, 12],\n",
       "       [12, 12, 12],\n",
       "       [12, 12, 12]])"
      ]
     },
     "execution_count": 43,
     "metadata": {},
     "output_type": "execute_result"
    }
   ],
   "source": [
    "arr18"
   ]
  },
  {
   "cell_type": "code",
   "execution_count": 44,
   "id": "ddf5cf6f",
   "metadata": {},
   "outputs": [],
   "source": [
    "arr19=np.random.random((3,3))"
   ]
  },
  {
   "cell_type": "code",
   "execution_count": 45,
   "id": "26318074",
   "metadata": {},
   "outputs": [
    {
     "data": {
      "text/plain": [
       "array([[0.45508627, 0.63931281, 0.92715226],\n",
       "       [0.42010564, 0.54589657, 0.00401616],\n",
       "       [0.32644927, 0.39560392, 0.90036737]])"
      ]
     },
     "execution_count": 45,
     "metadata": {},
     "output_type": "execute_result"
    },
    {
     "data": {
      "text/plain": [
       "array([[0.45508627, 0.63931281, 0.92715226],\n",
       "       [0.42010564, 0.54589657, 0.00401616],\n",
       "       [0.32644927, 0.39560392, 0.90036737]])"
      ]
     },
     "execution_count": 45,
     "metadata": {},
     "output_type": "execute_result"
    }
   ],
   "source": [
    "arr19"
   ]
  },
  {
   "cell_type": "markdown",
   "id": "b015a548",
   "metadata": {},
   "source": [
    "# <h2><center>Numpy attributes<center><h2>"
   ]
  },
  {
   "cell_type": "code",
   "execution_count": 46,
   "id": "e0ffa363",
   "metadata": {},
   "outputs": [
    {
     "name": "stdout",
     "output_type": "stream",
     "text": [
      "1\n",
      "1\n"
     ]
    }
   ],
   "source": [
    "print(arr1.ndim)"
   ]
  },
  {
   "cell_type": "code",
   "execution_count": 47,
   "id": "4e40b975",
   "metadata": {},
   "outputs": [
    {
     "name": "stdout",
     "output_type": "stream",
     "text": [
      "1\n",
      "1\n"
     ]
    }
   ],
   "source": [
    "print(arr2.ndim)"
   ]
  },
  {
   "cell_type": "code",
   "execution_count": 48,
   "id": "47c3a033",
   "metadata": {},
   "outputs": [
    {
     "name": "stdout",
     "output_type": "stream",
     "text": [
      "The dimension of array1 is:\n",
      "1\n",
      "The dimension of array2 is:\n",
      "1\n",
      "The dimension of array3 is:\n",
      "2\n",
      "The dimension of array4 is:\n",
      "2\n",
      "The dimension of array5 is:\n",
      "3\n",
      "The dimension of array6 is:\n",
      "3\n",
      "The dimension of array7 is:\n",
      "2\n",
      "The dimension of array8 is:\n",
      "2\n",
      "The dimension of array9 is:\n",
      "2\n",
      "The dimension of array10 is:\n",
      "2\n",
      "The dimension of array11 is:\n",
      "2\n",
      "The dimension of array12 is:\n",
      "2\n",
      "The dimension of array13 is:\n",
      "1\n",
      "The dimension of array14 is:\n",
      "1\n",
      "The dimension of array15 is:\n",
      "1\n",
      "The dimension of array16 is:\n",
      "1\n",
      "The dimension of array17 is:\n",
      "1\n",
      "The dimension of array18 is:\n",
      "2\n",
      "The dimension of array19 is:\n",
      "2\n",
      "The dimension of array1 is:\n",
      "1\n",
      "The dimension of array2 is:\n",
      "1\n",
      "The dimension of array3 is:\n",
      "2\n",
      "The dimension of array4 is:\n",
      "2\n",
      "The dimension of array5 is:\n",
      "3\n",
      "The dimension of array6 is:\n",
      "3\n",
      "The dimension of array7 is:\n",
      "2\n",
      "The dimension of array8 is:\n",
      "2\n",
      "The dimension of array9 is:\n",
      "2\n",
      "The dimension of array10 is:\n",
      "2\n",
      "The dimension of array11 is:\n",
      "2\n",
      "The dimension of array12 is:\n",
      "2\n",
      "The dimension of array13 is:\n",
      "1\n",
      "The dimension of array14 is:\n",
      "1\n",
      "The dimension of array15 is:\n",
      "1\n",
      "The dimension of array16 is:\n",
      "1\n",
      "The dimension of array17 is:\n",
      "1\n",
      "The dimension of array18 is:\n",
      "2\n",
      "The dimension of array19 is:\n",
      "2\n"
     ]
    }
   ],
   "source": [
    "for i in range(1,20):\n",
    "    print(f\"The dimension of array{i} is:\")\n",
    "    print(eval(f\"arr{i}.ndim\"))"
   ]
  },
  {
   "cell_type": "code",
   "execution_count": 49,
   "id": "b77a56c0",
   "metadata": {},
   "outputs": [
    {
     "name": "stdout",
     "output_type": "stream",
     "text": [
      "The shape of array1 is:\n",
      "(7,)\n",
      "The shape of array2 is:\n",
      "(4,)\n",
      "The shape of array3 is:\n",
      "(3, 3)\n",
      "The shape of array4 is:\n",
      "(4, 4)\n",
      "The shape of array5 is:\n",
      "(2, 2, 2)\n",
      "The shape of array6 is:\n",
      "(2, 3, 3)\n",
      "The shape of array7 is:\n",
      "(4, 5)\n",
      "The shape of array8 is:\n",
      "(3, 3)\n",
      "The shape of array9 is:\n",
      "(3, 3)\n",
      "The shape of array10 is:\n",
      "(3, 3)\n",
      "The shape of array11 is:\n",
      "(3, 3)\n",
      "The shape of array12 is:\n",
      "(3, 3)\n",
      "The shape of array13 is:\n",
      "(6,)\n",
      "The shape of array14 is:\n",
      "(5,)\n",
      "The shape of array15 is:\n",
      "(5,)\n",
      "The shape of array16 is:\n",
      "(9,)\n",
      "The shape of array17 is:\n",
      "(10,)\n",
      "The shape of array18 is:\n",
      "(3, 3)\n",
      "The shape of array19 is:\n",
      "(3, 3)\n",
      "The shape of array1 is:\n",
      "(7,)\n",
      "The shape of array2 is:\n",
      "(4,)\n",
      "The shape of array3 is:\n",
      "(3, 3)\n",
      "The shape of array4 is:\n",
      "(4, 4)\n",
      "The shape of array5 is:\n",
      "(2, 2, 2)\n",
      "The shape of array6 is:\n",
      "(2, 3, 3)\n",
      "The shape of array7 is:\n",
      "(4, 5)\n",
      "The shape of array8 is:\n",
      "(3, 3)\n",
      "The shape of array9 is:\n",
      "(3, 3)\n",
      "The shape of array10 is:\n",
      "(3, 3)\n",
      "The shape of array11 is:\n",
      "(3, 3)\n",
      "The shape of array12 is:\n",
      "(3, 3)\n",
      "The shape of array13 is:\n",
      "(6,)\n",
      "The shape of array14 is:\n",
      "(5,)\n",
      "The shape of array15 is:\n",
      "(5,)\n",
      "The shape of array16 is:\n",
      "(9,)\n",
      "The shape of array17 is:\n",
      "(10,)\n",
      "The shape of array18 is:\n",
      "(3, 3)\n",
      "The shape of array19 is:\n",
      "(3, 3)\n"
     ]
    }
   ],
   "source": [
    "for i in range(1,20):\n",
    "    print(f\"The shape of array{i} is:\")\n",
    "    print(eval(f\"arr{i}.shape\"))"
   ]
  },
  {
   "cell_type": "code",
   "execution_count": 50,
   "id": "74d74545",
   "metadata": {},
   "outputs": [
    {
     "name": "stdout",
     "output_type": "stream",
     "text": [
      "The size of array1 is:\n",
      "7\n",
      "The size of array2 is:\n",
      "4\n",
      "The size of array3 is:\n",
      "9\n",
      "The size of array4 is:\n",
      "16\n",
      "The size of array5 is:\n",
      "8\n",
      "The size of array6 is:\n",
      "18\n",
      "The size of array7 is:\n",
      "20\n",
      "The size of array8 is:\n",
      "9\n",
      "The size of array9 is:\n",
      "9\n",
      "The size of array10 is:\n",
      "9\n",
      "The size of array11 is:\n",
      "9\n",
      "The size of array12 is:\n",
      "9\n",
      "The size of array13 is:\n",
      "6\n",
      "The size of array14 is:\n",
      "5\n",
      "The size of array15 is:\n",
      "5\n",
      "The size of array16 is:\n",
      "9\n",
      "The size of array17 is:\n",
      "10\n",
      "The size of array18 is:\n",
      "9\n",
      "The size of array19 is:\n",
      "9\n",
      "The size of array1 is:\n",
      "7\n",
      "The size of array2 is:\n",
      "4\n",
      "The size of array3 is:\n",
      "9\n",
      "The size of array4 is:\n",
      "16\n",
      "The size of array5 is:\n",
      "8\n",
      "The size of array6 is:\n",
      "18\n",
      "The size of array7 is:\n",
      "20\n",
      "The size of array8 is:\n",
      "9\n",
      "The size of array9 is:\n",
      "9\n",
      "The size of array10 is:\n",
      "9\n",
      "The size of array11 is:\n",
      "9\n",
      "The size of array12 is:\n",
      "9\n",
      "The size of array13 is:\n",
      "6\n",
      "The size of array14 is:\n",
      "5\n",
      "The size of array15 is:\n",
      "5\n",
      "The size of array16 is:\n",
      "9\n",
      "The size of array17 is:\n",
      "10\n",
      "The size of array18 is:\n",
      "9\n",
      "The size of array19 is:\n",
      "9\n"
     ]
    }
   ],
   "source": [
    "for i in range(1,20):\n",
    "    print(f\"The size of array{i} is:\")\n",
    "    print(eval(f\"arr{i}.size\"))"
   ]
  },
  {
   "cell_type": "code",
   "execution_count": 51,
   "id": "8933061b",
   "metadata": {},
   "outputs": [
    {
     "name": "stdout",
     "output_type": "stream",
     "text": [
      "The datatype of each element of array1 is:\n",
      "int32\n",
      "The datatype of each element of array2 is:\n",
      "<U11\n",
      "The datatype of each element of array3 is:\n",
      "int32\n",
      "The datatype of each element of array4 is:\n",
      "<U11\n",
      "The datatype of each element of array5 is:\n",
      "int32\n",
      "The datatype of each element of array6 is:\n",
      "int32\n",
      "The datatype of each element of array7 is:\n",
      "float64\n",
      "The datatype of each element of array8 is:\n",
      "float64\n",
      "The datatype of each element of array9 is:\n",
      "float64\n",
      "The datatype of each element of array10 is:\n",
      "int32\n",
      "The datatype of each element of array11 is:\n",
      "float64\n",
      "The datatype of each element of array12 is:\n",
      "int32\n",
      "The datatype of each element of array13 is:\n",
      "int32\n",
      "The datatype of each element of array14 is:\n",
      "int32\n",
      "The datatype of each element of array15 is:\n",
      "float64\n",
      "The datatype of each element of array16 is:\n",
      "float64\n",
      "The datatype of each element of array17 is:\n",
      "float64\n",
      "The datatype of each element of array18 is:\n",
      "int32\n",
      "The datatype of each element of array19 is:\n",
      "float64\n",
      "The datatype of each element of array1 is:\n",
      "int32\n",
      "The datatype of each element of array2 is:\n",
      "<U11\n",
      "The datatype of each element of array3 is:\n",
      "int32\n",
      "The datatype of each element of array4 is:\n",
      "<U11\n",
      "The datatype of each element of array5 is:\n",
      "int32\n",
      "The datatype of each element of array6 is:\n",
      "int32\n",
      "The datatype of each element of array7 is:\n",
      "float64\n",
      "The datatype of each element of array8 is:\n",
      "float64\n",
      "The datatype of each element of array9 is:\n",
      "float64\n",
      "The datatype of each element of array10 is:\n",
      "int32\n",
      "The datatype of each element of array11 is:\n",
      "float64\n",
      "The datatype of each element of array12 is:\n",
      "int32\n",
      "The datatype of each element of array13 is:\n",
      "int32\n",
      "The datatype of each element of array14 is:\n",
      "int32\n",
      "The datatype of each element of array15 is:\n",
      "float64\n",
      "The datatype of each element of array16 is:\n",
      "float64\n",
      "The datatype of each element of array17 is:\n",
      "float64\n",
      "The datatype of each element of array18 is:\n",
      "int32\n",
      "The datatype of each element of array19 is:\n",
      "float64\n"
     ]
    }
   ],
   "source": [
    "for i in range(1,20):\n",
    "    print(f\"The datatype of each element of array{i} is:\")\n",
    "    print(eval(f\"arr{i}.dtype\"))"
   ]
  },
  {
   "cell_type": "code",
   "execution_count": 52,
   "id": "17b47fc9",
   "metadata": {},
   "outputs": [
    {
     "name": "stdout",
     "output_type": "stream",
     "text": [
      "The itemsize in bytes of each element of array1 is:\n",
      "4\n",
      "The itemsize in bytes of each element of array2 is:\n",
      "44\n",
      "The itemsize in bytes of each element of array3 is:\n",
      "4\n",
      "The itemsize in bytes of each element of array4 is:\n",
      "44\n",
      "The itemsize in bytes of each element of array5 is:\n",
      "4\n",
      "The itemsize in bytes of each element of array6 is:\n",
      "4\n",
      "The itemsize in bytes of each element of array7 is:\n",
      "8\n",
      "The itemsize in bytes of each element of array8 is:\n",
      "8\n",
      "The itemsize in bytes of each element of array9 is:\n",
      "8\n",
      "The itemsize in bytes of each element of array10 is:\n",
      "4\n",
      "The itemsize in bytes of each element of array11 is:\n",
      "8\n",
      "The itemsize in bytes of each element of array12 is:\n",
      "4\n",
      "The itemsize in bytes of each element of array13 is:\n",
      "4\n",
      "The itemsize in bytes of each element of array14 is:\n",
      "4\n",
      "The itemsize in bytes of each element of array15 is:\n",
      "8\n",
      "The itemsize in bytes of each element of array16 is:\n",
      "8\n",
      "The itemsize in bytes of each element of array17 is:\n",
      "8\n",
      "The itemsize in bytes of each element of array18 is:\n",
      "4\n",
      "The itemsize in bytes of each element of array19 is:\n",
      "8\n",
      "The itemsize in bytes of each element of array1 is:\n",
      "4\n",
      "The itemsize in bytes of each element of array2 is:\n",
      "44\n",
      "The itemsize in bytes of each element of array3 is:\n",
      "4\n",
      "The itemsize in bytes of each element of array4 is:\n",
      "44\n",
      "The itemsize in bytes of each element of array5 is:\n",
      "4\n",
      "The itemsize in bytes of each element of array6 is:\n",
      "4\n",
      "The itemsize in bytes of each element of array7 is:\n",
      "8\n",
      "The itemsize in bytes of each element of array8 is:\n",
      "8\n",
      "The itemsize in bytes of each element of array9 is:\n",
      "8\n",
      "The itemsize in bytes of each element of array10 is:\n",
      "4\n",
      "The itemsize in bytes of each element of array11 is:\n",
      "8\n",
      "The itemsize in bytes of each element of array12 is:\n",
      "4\n",
      "The itemsize in bytes of each element of array13 is:\n",
      "4\n",
      "The itemsize in bytes of each element of array14 is:\n",
      "4\n",
      "The itemsize in bytes of each element of array15 is:\n",
      "8\n",
      "The itemsize in bytes of each element of array16 is:\n",
      "8\n",
      "The itemsize in bytes of each element of array17 is:\n",
      "8\n",
      "The itemsize in bytes of each element of array18 is:\n",
      "4\n",
      "The itemsize in bytes of each element of array19 is:\n",
      "8\n"
     ]
    }
   ],
   "source": [
    "for i in range(1,20):\n",
    "    print(f\"The itemsize in bytes of each element of array{i} is:\")\n",
    "    print(eval(f\"arr{i}.itemsize\"))"
   ]
  },
  {
   "cell_type": "code",
   "execution_count": 53,
   "id": "eb911a48",
   "metadata": {},
   "outputs": [
    {
     "name": "stdout",
     "output_type": "stream",
     "text": [
      "The itemsize in bits of each element of array1 is:\n",
      "0.5\n",
      "The itemsize in bits of each element of array2 is:\n",
      "5.5\n",
      "The itemsize in bits of each element of array3 is:\n",
      "0.5\n",
      "The itemsize in bits of each element of array4 is:\n",
      "5.5\n",
      "The itemsize in bits of each element of array5 is:\n",
      "0.5\n",
      "The itemsize in bits of each element of array6 is:\n",
      "0.5\n",
      "The itemsize in bits of each element of array7 is:\n",
      "1.0\n",
      "The itemsize in bits of each element of array8 is:\n",
      "1.0\n",
      "The itemsize in bits of each element of array9 is:\n",
      "1.0\n",
      "The itemsize in bits of each element of array10 is:\n",
      "0.5\n",
      "The itemsize in bits of each element of array11 is:\n",
      "1.0\n",
      "The itemsize in bits of each element of array12 is:\n",
      "0.5\n",
      "The itemsize in bits of each element of array13 is:\n",
      "0.5\n",
      "The itemsize in bits of each element of array14 is:\n",
      "0.5\n",
      "The itemsize in bits of each element of array15 is:\n",
      "1.0\n",
      "The itemsize in bits of each element of array16 is:\n",
      "1.0\n",
      "The itemsize in bits of each element of array17 is:\n",
      "1.0\n",
      "The itemsize in bits of each element of array18 is:\n",
      "0.5\n",
      "The itemsize in bits of each element of array19 is:\n",
      "1.0\n",
      "The itemsize in bits of each element of array1 is:\n",
      "0.5\n",
      "The itemsize in bits of each element of array2 is:\n",
      "5.5\n",
      "The itemsize in bits of each element of array3 is:\n",
      "0.5\n",
      "The itemsize in bits of each element of array4 is:\n",
      "5.5\n",
      "The itemsize in bits of each element of array5 is:\n",
      "0.5\n",
      "The itemsize in bits of each element of array6 is:\n",
      "0.5\n",
      "The itemsize in bits of each element of array7 is:\n",
      "1.0\n",
      "The itemsize in bits of each element of array8 is:\n",
      "1.0\n",
      "The itemsize in bits of each element of array9 is:\n",
      "1.0\n",
      "The itemsize in bits of each element of array10 is:\n",
      "0.5\n",
      "The itemsize in bits of each element of array11 is:\n",
      "1.0\n",
      "The itemsize in bits of each element of array12 is:\n",
      "0.5\n",
      "The itemsize in bits of each element of array13 is:\n",
      "0.5\n",
      "The itemsize in bits of each element of array14 is:\n",
      "0.5\n",
      "The itemsize in bits of each element of array15 is:\n",
      "1.0\n",
      "The itemsize in bits of each element of array16 is:\n",
      "1.0\n",
      "The itemsize in bits of each element of array17 is:\n",
      "1.0\n",
      "The itemsize in bits of each element of array18 is:\n",
      "0.5\n",
      "The itemsize in bits of each element of array19 is:\n",
      "1.0\n"
     ]
    }
   ],
   "source": [
    "for i in range(1,20):\n",
    "    print(f\"The itemsize in bits of each element of array{i} is:\")\n",
    "    x=eval(f\"arr{i}.itemsize\")\n",
    "    print(x/8)"
   ]
  },
  {
   "cell_type": "markdown",
   "id": "7ad8e89f",
   "metadata": {},
   "source": [
    "# <h2><center>Sorting<center><h2>"
   ]
  },
  {
   "cell_type": "code",
   "execution_count": 54,
   "id": "fa860be1",
   "metadata": {},
   "outputs": [
    {
     "data": {
      "text/plain": [
       "array([[78, 67, 56],\n",
       "       [76, 75, 47],\n",
       "       [84, 59, 60],\n",
       "       [67, 72, 54]])"
      ]
     },
     "execution_count": 54,
     "metadata": {},
     "output_type": "execute_result"
    },
    {
     "data": {
      "text/plain": [
       "array([[78, 67, 56],\n",
       "       [76, 75, 47],\n",
       "       [84, 59, 60],\n",
       "       [67, 72, 54]])"
      ]
     },
     "execution_count": 54,
     "metadata": {},
     "output_type": "execute_result"
    }
   ],
   "source": [
    "l7=[[78,67,56],[76,75,47],[84,59,60],[67,72,54]]\n",
    "marks=np.array(l7)\n",
    "marks"
   ]
  },
  {
   "cell_type": "code",
   "execution_count": 55,
   "id": "ef202e20",
   "metadata": {},
   "outputs": [],
   "source": [
    "marks.sort(axis=1) \n",
    "#column wise sorting\n",
    "# Changes will occur in the original array"
   ]
  },
  {
   "cell_type": "code",
   "execution_count": 56,
   "id": "635c0c5c",
   "metadata": {},
   "outputs": [
    {
     "data": {
      "text/plain": [
       "array([[56, 67, 78],\n",
       "       [47, 75, 76],\n",
       "       [59, 60, 84],\n",
       "       [54, 67, 72]])"
      ]
     },
     "execution_count": 56,
     "metadata": {},
     "output_type": "execute_result"
    },
    {
     "data": {
      "text/plain": [
       "array([[56, 67, 78],\n",
       "       [47, 75, 76],\n",
       "       [59, 60, 84],\n",
       "       [54, 67, 72]])"
      ]
     },
     "execution_count": 56,
     "metadata": {},
     "output_type": "execute_result"
    }
   ],
   "source": [
    "marks"
   ]
  },
  {
   "cell_type": "code",
   "execution_count": 57,
   "id": "2c13d346",
   "metadata": {},
   "outputs": [],
   "source": [
    "l7=[[78,67,56],[76,75,47],[84,59,60],[67,72,54]]\n"
   ]
  },
  {
   "cell_type": "code",
   "execution_count": 58,
   "id": "69010ffa",
   "metadata": {},
   "outputs": [],
   "source": [
    "marks=np.array(l7)\n"
   ]
  },
  {
   "cell_type": "code",
   "execution_count": 59,
   "id": "2f79686a",
   "metadata": {},
   "outputs": [
    {
     "name": "stdout",
     "output_type": "stream",
     "text": [
      "[[78 67 56]\n",
      " [76 75 47]\n",
      " [84 59 60]\n",
      " [67 72 54]]\n",
      "[[78 67 56]\n",
      " [76 75 47]\n",
      " [84 59 60]\n",
      " [67 72 54]]\n"
     ]
    }
   ],
   "source": [
    "print(marks)\n"
   ]
  },
  {
   "cell_type": "code",
   "execution_count": 60,
   "id": "e94b88bf",
   "metadata": {},
   "outputs": [],
   "source": [
    "marks.sort(axis=0)"
   ]
  },
  {
   "cell_type": "code",
   "execution_count": 61,
   "id": "7378ee4d",
   "metadata": {},
   "outputs": [
    {
     "data": {
      "text/plain": [
       "array([[67, 59, 47],\n",
       "       [76, 67, 54],\n",
       "       [78, 72, 56],\n",
       "       [84, 75, 60]])"
      ]
     },
     "execution_count": 61,
     "metadata": {},
     "output_type": "execute_result"
    },
    {
     "data": {
      "text/plain": [
       "array([[67, 59, 47],\n",
       "       [76, 67, 54],\n",
       "       [78, 72, 56],\n",
       "       [84, 75, 60]])"
      ]
     },
     "execution_count": 61,
     "metadata": {},
     "output_type": "execute_result"
    }
   ],
   "source": [
    "marks"
   ]
  },
  {
   "cell_type": "markdown",
   "id": "3217e4f2",
   "metadata": {},
   "source": [
    "# <h1><center>Indexing and Slicing<center><h1>"
   ]
  },
  {
   "cell_type": "code",
   "execution_count": 62,
   "id": "e07c201a",
   "metadata": {},
   "outputs": [
    {
     "data": {
      "text/plain": [
       "1"
      ]
     },
     "execution_count": 62,
     "metadata": {},
     "output_type": "execute_result"
    },
    {
     "data": {
      "text/plain": [
       "1"
      ]
     },
     "execution_count": 62,
     "metadata": {},
     "output_type": "execute_result"
    }
   ],
   "source": [
    "arr1[0]"
   ]
  },
  {
   "cell_type": "code",
   "execution_count": 63,
   "id": "88904d34",
   "metadata": {},
   "outputs": [
    {
     "data": {
      "text/plain": [
       "6"
      ]
     },
     "execution_count": 63,
     "metadata": {},
     "output_type": "execute_result"
    },
    {
     "data": {
      "text/plain": [
       "6"
      ]
     },
     "execution_count": 63,
     "metadata": {},
     "output_type": "execute_result"
    }
   ],
   "source": [
    "arr1[4]"
   ]
  },
  {
   "cell_type": "code",
   "execution_count": 64,
   "id": "c31fb1ea",
   "metadata": {},
   "outputs": [
    {
     "data": {
      "text/plain": [
       "56"
      ]
     },
     "execution_count": 64,
     "metadata": {},
     "output_type": "execute_result"
    },
    {
     "data": {
      "text/plain": [
       "56"
      ]
     },
     "execution_count": 64,
     "metadata": {},
     "output_type": "execute_result"
    }
   ],
   "source": [
    "marks[2,2]"
   ]
  },
  {
   "cell_type": "code",
   "execution_count": 65,
   "id": "7a8e6976",
   "metadata": {},
   "outputs": [
    {
     "data": {
      "text/plain": [
       "array([[67, 59],\n",
       "       [76, 67],\n",
       "       [78, 72]])"
      ]
     },
     "execution_count": 65,
     "metadata": {},
     "output_type": "execute_result"
    },
    {
     "data": {
      "text/plain": [
       "array([[67, 59],\n",
       "       [76, 67],\n",
       "       [78, 72]])"
      ]
     },
     "execution_count": 65,
     "metadata": {},
     "output_type": "execute_result"
    }
   ],
   "source": [
    "marks[0:3,0:2]"
   ]
  },
  {
   "cell_type": "code",
   "execution_count": 66,
   "id": "cc5a047b",
   "metadata": {},
   "outputs": [
    {
     "data": {
      "text/plain": [
       "array([9, 8, 6, 5, 3, 2, 1])"
      ]
     },
     "execution_count": 66,
     "metadata": {},
     "output_type": "execute_result"
    },
    {
     "data": {
      "text/plain": [
       "array([9, 8, 6, 5, 3, 2, 1])"
      ]
     },
     "execution_count": 66,
     "metadata": {},
     "output_type": "execute_result"
    }
   ],
   "source": [
    "arr1[::-1]"
   ]
  },
  {
   "cell_type": "code",
   "execution_count": 67,
   "id": "04dc305e",
   "metadata": {},
   "outputs": [
    {
     "data": {
      "text/plain": [
       "array(['hello', '4', '3', '2'], dtype='<U11')"
      ]
     },
     "execution_count": 67,
     "metadata": {},
     "output_type": "execute_result"
    },
    {
     "data": {
      "text/plain": [
       "array(['hello', '4', '3', '2'], dtype='<U11')"
      ]
     },
     "execution_count": 67,
     "metadata": {},
     "output_type": "execute_result"
    }
   ],
   "source": [
    "arr2[::-1]"
   ]
  },
  {
   "cell_type": "code",
   "execution_count": 68,
   "id": "beb2b937",
   "metadata": {},
   "outputs": [
    {
     "data": {
      "text/plain": [
       "array([20., 15., 10.,  5.,  0.])"
      ]
     },
     "execution_count": 68,
     "metadata": {},
     "output_type": "execute_result"
    },
    {
     "data": {
      "text/plain": [
       "array([20., 15., 10.,  5.,  0.])"
      ]
     },
     "execution_count": 68,
     "metadata": {},
     "output_type": "execute_result"
    }
   ],
   "source": [
    "arr15[::-1]"
   ]
  },
  {
   "cell_type": "code",
   "execution_count": 69,
   "id": "82c818b8",
   "metadata": {},
   "outputs": [
    {
     "data": {
      "text/plain": [
       "array([[6.23042070e-307, 4.67296746e-307],\n",
       "       [4.22790856e-307, 1.89142482e-307],\n",
       "       [7.56603881e-307, 8.45603440e-307]])"
      ]
     },
     "execution_count": 69,
     "metadata": {},
     "output_type": "execute_result"
    },
    {
     "data": {
      "text/plain": [
       "array([[6.23042070e-307, 4.67296746e-307],\n",
       "       [4.22790856e-307, 1.89142482e-307],\n",
       "       [7.56603881e-307, 8.45603440e-307]])"
      ]
     },
     "execution_count": 69,
     "metadata": {},
     "output_type": "execute_result"
    }
   ],
   "source": [
    "arr8[:,0:2]"
   ]
  },
  {
   "cell_type": "markdown",
   "id": "191ad530",
   "metadata": {},
   "source": [
    "# <h2><center>Operation on Arrays<center><h2>"
   ]
  },
  {
   "cell_type": "code",
   "execution_count": 70,
   "id": "971e05b3",
   "metadata": {},
   "outputs": [
    {
     "data": {
      "text/plain": [
       "array([[67, 59, 47],\n",
       "       [76, 67, 54],\n",
       "       [78, 72, 56],\n",
       "       [84, 75, 60]])"
      ]
     },
     "execution_count": 70,
     "metadata": {},
     "output_type": "execute_result"
    },
    {
     "data": {
      "text/plain": [
       "array([[67, 59, 47],\n",
       "       [76, 67, 54],\n",
       "       [78, 72, 56],\n",
       "       [84, 75, 60]])"
      ]
     },
     "execution_count": 70,
     "metadata": {},
     "output_type": "execute_result"
    }
   ],
   "source": [
    "marks\n"
   ]
  },
  {
   "cell_type": "code",
   "execution_count": 71,
   "id": "4e3f6f09",
   "metadata": {},
   "outputs": [],
   "source": [
    "marks1=np.array([[10,20,30],[34,33,46],[34,56,76],[55,45,87]])"
   ]
  },
  {
   "cell_type": "code",
   "execution_count": 72,
   "id": "88aa8d55",
   "metadata": {},
   "outputs": [
    {
     "data": {
      "text/plain": [
       "array([[10, 20, 30],\n",
       "       [34, 33, 46],\n",
       "       [34, 56, 76],\n",
       "       [55, 45, 87]])"
      ]
     },
     "execution_count": 72,
     "metadata": {},
     "output_type": "execute_result"
    },
    {
     "data": {
      "text/plain": [
       "array([[10, 20, 30],\n",
       "       [34, 33, 46],\n",
       "       [34, 56, 76],\n",
       "       [55, 45, 87]])"
      ]
     },
     "execution_count": 72,
     "metadata": {},
     "output_type": "execute_result"
    }
   ],
   "source": [
    "marks1"
   ]
  },
  {
   "cell_type": "code",
   "execution_count": 73,
   "id": "f88b3d13",
   "metadata": {},
   "outputs": [],
   "source": [
    "marks2=np.array([[10,20,30,88],[34,33,46,15],[34,56,76,66],[55,45,87,89]])"
   ]
  },
  {
   "cell_type": "code",
   "execution_count": 74,
   "id": "0c43a1de",
   "metadata": {},
   "outputs": [],
   "source": [
    "marks3=np.array([[11,23,30,88],[37,33,46,34],[34,65,76,66],[55,35,87,89]])"
   ]
  },
  {
   "cell_type": "code",
   "execution_count": 75,
   "id": "a18c7f45",
   "metadata": {},
   "outputs": [
    {
     "data": {
      "text/plain": [
       "(array([[67, 59, 47],\n",
       "        [76, 67, 54],\n",
       "        [78, 72, 56],\n",
       "        [84, 75, 60]]),\n",
       " array([[10, 20, 30],\n",
       "        [34, 33, 46],\n",
       "        [34, 56, 76],\n",
       "        [55, 45, 87]]),\n",
       " array([[10, 20, 30, 88],\n",
       "        [34, 33, 46, 15],\n",
       "        [34, 56, 76, 66],\n",
       "        [55, 45, 87, 89]]),\n",
       " array([[11, 23, 30, 88],\n",
       "        [37, 33, 46, 34],\n",
       "        [34, 65, 76, 66],\n",
       "        [55, 35, 87, 89]]))"
      ]
     },
     "execution_count": 75,
     "metadata": {},
     "output_type": "execute_result"
    },
    {
     "data": {
      "text/plain": [
       "(array([[67, 59, 47],\n",
       "        [76, 67, 54],\n",
       "        [78, 72, 56],\n",
       "        [84, 75, 60]]),\n",
       " array([[10, 20, 30],\n",
       "        [34, 33, 46],\n",
       "        [34, 56, 76],\n",
       "        [55, 45, 87]]),\n",
       " array([[10, 20, 30, 88],\n",
       "        [34, 33, 46, 15],\n",
       "        [34, 56, 76, 66],\n",
       "        [55, 45, 87, 89]]),\n",
       " array([[11, 23, 30, 88],\n",
       "        [37, 33, 46, 34],\n",
       "        [34, 65, 76, 66],\n",
       "        [55, 35, 87, 89]]))"
      ]
     },
     "execution_count": 75,
     "metadata": {},
     "output_type": "execute_result"
    }
   ],
   "source": [
    "marks,marks1,marks2,marks3"
   ]
  },
  {
   "cell_type": "code",
   "execution_count": 76,
   "id": "0b64f3ac",
   "metadata": {},
   "outputs": [
    {
     "data": {
      "text/plain": [
       "array([[ 77,  79,  77],\n",
       "       [110, 100, 100],\n",
       "       [112, 128, 132],\n",
       "       [139, 120, 147]])"
      ]
     },
     "execution_count": 76,
     "metadata": {},
     "output_type": "execute_result"
    },
    {
     "data": {
      "text/plain": [
       "array([[ 77,  79,  77],\n",
       "       [110, 100, 100],\n",
       "       [112, 128, 132],\n",
       "       [139, 120, 147]])"
      ]
     },
     "execution_count": 76,
     "metadata": {},
     "output_type": "execute_result"
    }
   ],
   "source": [
    "marks+marks1"
   ]
  },
  {
   "cell_type": "code",
   "execution_count": 77,
   "id": "1cbf20b1",
   "metadata": {},
   "outputs": [
    {
     "data": {
      "text/plain": [
       "array([[ 57,  39,  17],\n",
       "       [ 42,  34,   8],\n",
       "       [ 44,  16, -20],\n",
       "       [ 29,  30, -27]])"
      ]
     },
     "execution_count": 77,
     "metadata": {},
     "output_type": "execute_result"
    },
    {
     "data": {
      "text/plain": [
       "array([[ 57,  39,  17],\n",
       "       [ 42,  34,   8],\n",
       "       [ 44,  16, -20],\n",
       "       [ 29,  30, -27]])"
      ]
     },
     "execution_count": 77,
     "metadata": {},
     "output_type": "execute_result"
    }
   ],
   "source": [
    "marks-marks1"
   ]
  },
  {
   "cell_type": "code",
   "execution_count": 78,
   "id": "433af4de",
   "metadata": {},
   "outputs": [
    {
     "data": {
      "text/plain": [
       "array([[ 670, 1180, 1410],\n",
       "       [2584, 2211, 2484],\n",
       "       [2652, 4032, 4256],\n",
       "       [4620, 3375, 5220]])"
      ]
     },
     "execution_count": 78,
     "metadata": {},
     "output_type": "execute_result"
    },
    {
     "data": {
      "text/plain": [
       "array([[ 670, 1180, 1410],\n",
       "       [2584, 2211, 2484],\n",
       "       [2652, 4032, 4256],\n",
       "       [4620, 3375, 5220]])"
      ]
     },
     "execution_count": 78,
     "metadata": {},
     "output_type": "execute_result"
    }
   ],
   "source": [
    "marks*marks1"
   ]
  },
  {
   "cell_type": "code",
   "execution_count": 151,
   "id": "2c17a087",
   "metadata": {},
   "outputs": [
    {
     "data": {
      "text/plain": [
       "array([[6.7       , 2.95      , 1.56666667],\n",
       "       [2.23529412, 2.03030303, 1.17391304],\n",
       "       [2.29411765, 1.28571429, 0.73684211],\n",
       "       [1.52727273, 1.66666667, 0.68965517]])"
      ]
     },
     "execution_count": 151,
     "metadata": {},
     "output_type": "execute_result"
    },
    {
     "data": {
      "text/plain": [
       "array([[6.7       , 2.95      , 1.56666667],\n",
       "       [2.23529412, 2.03030303, 1.17391304],\n",
       "       [2.29411765, 1.28571429, 0.73684211],\n",
       "       [1.52727273, 1.66666667, 0.68965517]])"
      ]
     },
     "execution_count": 151,
     "metadata": {},
     "output_type": "execute_result"
    }
   ],
   "source": [
    "marks/marks1"
   ]
  },
  {
   "cell_type": "code",
   "execution_count": 154,
   "id": "4bbc806c",
   "metadata": {},
   "outputs": [
    {
     "data": {
      "text/plain": [
       "array([[False, False,  True],\n",
       "       [False, False, False],\n",
       "       [False, False, False],\n",
       "       [False, False, False]])"
      ]
     },
     "execution_count": 154,
     "metadata": {},
     "output_type": "execute_result"
    },
    {
     "data": {
      "text/plain": [
       "array([[False, False,  True],\n",
       "       [False, False, False],\n",
       "       [False, False, False],\n",
       "       [False, False, False]])"
      ]
     },
     "execution_count": 154,
     "metadata": {},
     "output_type": "execute_result"
    }
   ],
   "source": [
    "np.where(marks<50,True,False) #yield True otherwise yield False"
   ]
  },
  {
   "cell_type": "code",
   "execution_count": 156,
   "id": "bcd19d28",
   "metadata": {},
   "outputs": [
    {
     "data": {
      "text/plain": [
       "array([[10, 20, 30],\n",
       "       [34, 33, 46],\n",
       "       [34, 56, 76],\n",
       "       [55, 45, 87]])"
      ]
     },
     "execution_count": 156,
     "metadata": {},
     "output_type": "execute_result"
    },
    {
     "data": {
      "text/plain": [
       "array([[10, 20, 30],\n",
       "       [34, 33, 46],\n",
       "       [34, 56, 76],\n",
       "       [55, 45, 87]])"
      ]
     },
     "execution_count": 156,
     "metadata": {},
     "output_type": "execute_result"
    }
   ],
   "source": [
    "marks1"
   ]
  },
  {
   "cell_type": "code",
   "execution_count": null,
   "id": "9c4bb066",
   "metadata": {},
   "outputs": [],
   "source": []
  },
  {
   "cell_type": "markdown",
   "id": "23c62c52",
   "metadata": {},
   "source": [
    "\n",
    "# <h2><center>Matrix Multiplication<center><h2>"
   ]
  },
  {
   "cell_type": "code",
   "execution_count": 80,
   "id": "34e89c67",
   "metadata": {},
   "outputs": [
    {
     "data": {
      "text/plain": [
       "array([[ 6710,  5920, 11156, 11372],\n",
       "       [ 3984,  5386,  7339,  8485],\n",
       "       [ 8660,  9880, 15114, 15786],\n",
       "       [10123, 11520, 18075, 20033]])"
      ]
     },
     "execution_count": 80,
     "metadata": {},
     "output_type": "execute_result"
    },
    {
     "data": {
      "text/plain": [
       "array([[ 6710,  5920, 11156, 11372],\n",
       "       [ 3984,  5386,  7339,  8485],\n",
       "       [ 8660,  9880, 15114, 15786],\n",
       "       [10123, 11520, 18075, 20033]])"
      ]
     },
     "execution_count": 80,
     "metadata": {},
     "output_type": "execute_result"
    }
   ],
   "source": [
    "marks2@marks3"
   ]
  },
  {
   "cell_type": "markdown",
   "id": "8d293344",
   "metadata": {},
   "source": [
    "# <h3><center>The Linear Algebra module of NumPy offers various methods to apply linear algebra on any numpy array.<center><h3>"
   ]
  },
  {
   "cell_type": "code",
   "execution_count": 81,
   "id": "10bc9fbb",
   "metadata": {},
   "outputs": [],
   "source": [
    "marks0=marks\n"
   ]
  },
  {
   "cell_type": "markdown",
   "id": "8e382eeb",
   "metadata": {},
   "source": [
    "# <h3><center>Rank of a matrix<center><h3>"
   ]
  },
  {
   "cell_type": "code",
   "execution_count": 82,
   "id": "bc79f180",
   "metadata": {},
   "outputs": [
    {
     "name": "stdout",
     "output_type": "stream",
     "text": [
      "The rank of the matrix \n",
      "[[67 59 47]\n",
      " [76 67 54]\n",
      " [78 72 56]\n",
      " [84 75 60]] is 3\n",
      "The rank of the matrix \n",
      "[[10 20 30]\n",
      " [34 33 46]\n",
      " [34 56 76]\n",
      " [55 45 87]] is 3\n",
      "The rank of the matrix \n",
      "[[10 20 30 88]\n",
      " [34 33 46 15]\n",
      " [34 56 76 66]\n",
      " [55 45 87 89]] is 4\n",
      "The rank of the matrix \n",
      "[[11 23 30 88]\n",
      " [37 33 46 34]\n",
      " [34 65 76 66]\n",
      " [55 35 87 89]] is 4\n",
      "The rank of the matrix \n",
      "[[67 59 47]\n",
      " [76 67 54]\n",
      " [78 72 56]\n",
      " [84 75 60]] is 3\n",
      "The rank of the matrix \n",
      "[[10 20 30]\n",
      " [34 33 46]\n",
      " [34 56 76]\n",
      " [55 45 87]] is 3\n",
      "The rank of the matrix \n",
      "[[10 20 30 88]\n",
      " [34 33 46 15]\n",
      " [34 56 76 66]\n",
      " [55 45 87 89]] is 4\n",
      "The rank of the matrix \n",
      "[[11 23 30 88]\n",
      " [37 33 46 34]\n",
      " [34 65 76 66]\n",
      " [55 35 87 89]] is 4\n"
     ]
    }
   ],
   "source": [
    "for i in range(4):\n",
    "    rank=eval(f\"np.linalg.matrix_rank(marks{i})\")\n",
    "    mat=eval(f\"marks{i}\")\n",
    "    print(f\"The rank of the matrix \\n{mat} is {rank}\")"
   ]
  },
  {
   "cell_type": "markdown",
   "id": "db886c01",
   "metadata": {},
   "source": [
    "# <h3><center>Determinant of a matrix<center><h3>"
   ]
  },
  {
   "cell_type": "code",
   "execution_count": 83,
   "id": "14c6ac8d",
   "metadata": {},
   "outputs": [
    {
     "name": "stdout",
     "output_type": "stream",
     "text": [
      "The determinant of the matrix \n",
      "[[10 20 30 88]\n",
      " [34 33 46 15]\n",
      " [34 56 76 66]\n",
      " [55 45 87 89]] is -919351.9999999991\n",
      "The determinant of the matrix \n",
      "[[11 23 30 88]\n",
      " [37 33 46 34]\n",
      " [34 65 76 66]\n",
      " [55 35 87 89]] is -2443802.000000001\n",
      "The determinant of the matrix \n",
      "[[10 20 30 88]\n",
      " [34 33 46 15]\n",
      " [34 56 76 66]\n",
      " [55 45 87 89]] is -919351.9999999991\n",
      "The determinant of the matrix \n",
      "[[11 23 30 88]\n",
      " [37 33 46 34]\n",
      " [34 65 76 66]\n",
      " [55 35 87 89]] is -2443802.000000001\n"
     ]
    }
   ],
   "source": [
    "for i in range(4):\n",
    "    mat=eval(f\"marks{i}\")\n",
    "    if mat.shape[0]==mat.shape[1]:\n",
    "        det=eval(f\"np.linalg.det(marks{i})\")\n",
    "        print(f\"The determinant of the matrix \\n{mat} is {det}\")"
   ]
  },
  {
   "cell_type": "markdown",
   "id": "efc87292",
   "metadata": {},
   "source": [
    "# <h3><center>Trace of a matrix<center><h3>"
   ]
  },
  {
   "cell_type": "code",
   "execution_count": 84,
   "id": "4c8e506d",
   "metadata": {},
   "outputs": [
    {
     "name": "stdout",
     "output_type": "stream",
     "text": [
      "The trace of the matrix \n",
      "[[10 20 30 88]\n",
      " [34 33 46 15]\n",
      " [34 56 76 66]\n",
      " [55 45 87 89]] is 208\n",
      "The trace of the matrix \n",
      "[[11 23 30 88]\n",
      " [37 33 46 34]\n",
      " [34 65 76 66]\n",
      " [55 35 87 89]] is 209\n",
      "The trace of the matrix \n",
      "[[10 20 30 88]\n",
      " [34 33 46 15]\n",
      " [34 56 76 66]\n",
      " [55 45 87 89]] is 208\n",
      "The trace of the matrix \n",
      "[[11 23 30 88]\n",
      " [37 33 46 34]\n",
      " [34 65 76 66]\n",
      " [55 35 87 89]] is 209\n"
     ]
    }
   ],
   "source": [
    "for i in range(4):\n",
    "    mat=eval(f\"marks{i}\")\n",
    "    if mat.shape[0]==mat.shape[1]:\n",
    "        tra=eval(f\"np.trace(marks{i})\")\n",
    "        print(f\"The trace of the matrix \\n{mat} is {tra}\")"
   ]
  },
  {
   "cell_type": "markdown",
   "id": "2a220674",
   "metadata": {},
   "source": [
    "# <h3><center>Inverse of a matrix<center><h3>"
   ]
  },
  {
   "cell_type": "code",
   "execution_count": 85,
   "id": "929c3c63",
   "metadata": {},
   "outputs": [
    {
     "name": "stdout",
     "output_type": "stream",
     "text": [
      "The inverse of the matrix \n",
      "[[10 20 30 88]\n",
      " [34 33 46 15]\n",
      " [34 56 76 66]\n",
      " [55 45 87 89]] is \n",
      "[[ 0.04039584  0.0954977  -0.0635317  -0.00892368]\n",
      " [ 0.04807952  0.08614328 -0.00051776 -0.06167387]\n",
      " [-0.07087383 -0.11331895  0.05055735  0.05168423]\n",
      " [ 0.02000757  0.00820143 -0.00989828 -0.00258878]]\n",
      "The inverse of the matrix \n",
      "[[11 23 30 88]\n",
      " [37 33 46 34]\n",
      " [34 65 76 66]\n",
      " [55 35 87 89]] is \n",
      "[[ 0.00994107  0.07480802 -0.03465338 -0.0127097 ]\n",
      " [ 0.00984122  0.03198868  0.01245518 -0.03118747]\n",
      " [-0.02758693 -0.06455638  0.02425401  0.03395283]\n",
      " [ 0.0169535   0.00429617 -0.00719207 -0.00183485]]\n",
      "The inverse of the matrix \n",
      "[[10 20 30 88]\n",
      " [34 33 46 15]\n",
      " [34 56 76 66]\n",
      " [55 45 87 89]] is \n",
      "[[ 0.04039584  0.0954977  -0.0635317  -0.00892368]\n",
      " [ 0.04807952  0.08614328 -0.00051776 -0.06167387]\n",
      " [-0.07087383 -0.11331895  0.05055735  0.05168423]\n",
      " [ 0.02000757  0.00820143 -0.00989828 -0.00258878]]\n",
      "The inverse of the matrix \n",
      "[[11 23 30 88]\n",
      " [37 33 46 34]\n",
      " [34 65 76 66]\n",
      " [55 35 87 89]] is \n",
      "[[ 0.00994107  0.07480802 -0.03465338 -0.0127097 ]\n",
      " [ 0.00984122  0.03198868  0.01245518 -0.03118747]\n",
      " [-0.02758693 -0.06455638  0.02425401  0.03395283]\n",
      " [ 0.0169535   0.00429617 -0.00719207 -0.00183485]]\n"
     ]
    }
   ],
   "source": [
    "for i in range(4):\n",
    "    mat=eval(f\"marks{i}\")\n",
    "    if mat.shape[0]==mat.shape[1]:\n",
    "        inverse=eval(f\"np.linalg.inv(marks{i})\")\n",
    "        print(f\"The inverse of the matrix \\n{mat} is \\n{inverse}\")"
   ]
  },
  {
   "cell_type": "code",
   "execution_count": 86,
   "id": "62dc2fa1",
   "metadata": {},
   "outputs": [
    {
     "name": "stdout",
     "output_type": "stream",
     "text": [
      "The matrix \n",
      "[[10 20 30 88]\n",
      " [34 33 46 15]\n",
      " [34 56 76 66]\n",
      " [55 45 87 89]] raised to power 3 is  is \n",
      "[[1271264 1466676 2302360 2396404]\n",
      " [ 890906 1007274 1587860 1597924]\n",
      " [1739802 1999916 3131902 3198396]\n",
      " [2158378 2452116 3867428 3945826]]\n",
      "The matrix \n",
      "[[11 23 30 88]\n",
      " [37 33 46 34]\n",
      " [34 65 76 66]\n",
      " [55 35 87 89]] raised to power 3 is  is \n",
      "[[1319632 1497252 2349410 2583046]\n",
      " [1165110 1274116 2031892 2182108]\n",
      " [1888484 2115220 3318064 3594438]\n",
      " [2203338 2427819 3859361 4153991]]\n",
      "The matrix \n",
      "[[10 20 30 88]\n",
      " [34 33 46 15]\n",
      " [34 56 76 66]\n",
      " [55 45 87 89]] raised to power 3 is  is \n",
      "[[1271264 1466676 2302360 2396404]\n",
      " [ 890906 1007274 1587860 1597924]\n",
      " [1739802 1999916 3131902 3198396]\n",
      " [2158378 2452116 3867428 3945826]]\n",
      "The matrix \n",
      "[[11 23 30 88]\n",
      " [37 33 46 34]\n",
      " [34 65 76 66]\n",
      " [55 35 87 89]] raised to power 3 is  is \n",
      "[[1319632 1497252 2349410 2583046]\n",
      " [1165110 1274116 2031892 2182108]\n",
      " [1888484 2115220 3318064 3594438]\n",
      " [2203338 2427819 3859361 4153991]]\n"
     ]
    }
   ],
   "source": [
    "for i in range(4):\n",
    "    mat=eval(f\"marks{i}\")\n",
    "    if mat.shape[0]==mat.shape[1]:\n",
    "        inverse=eval(f\"np.linalg.matrix_power(marks{i},3)\")\n",
    "        print(f\"The matrix \\n{mat} raised to power 3 is  is \\n{inverse}\")"
   ]
  },
  {
   "cell_type": "markdown",
   "id": "f4c9ce1b",
   "metadata": {},
   "source": [
    "# <h2><center>Eigenvalues and Eigenvectors of a matrix<center><h2>"
   ]
  },
  {
   "cell_type": "code",
   "execution_count": 87,
   "id": "f2e2c25e",
   "metadata": {},
   "outputs": [],
   "source": [
    "arr20=np.diag((2,3,4))"
   ]
  },
  {
   "cell_type": "code",
   "execution_count": 88,
   "id": "c68861e5",
   "metadata": {},
   "outputs": [
    {
     "data": {
      "text/plain": [
       "array([[2, 0, 0],\n",
       "       [0, 3, 0],\n",
       "       [0, 0, 4]])"
      ]
     },
     "execution_count": 88,
     "metadata": {},
     "output_type": "execute_result"
    },
    {
     "data": {
      "text/plain": [
       "array([[2, 0, 0],\n",
       "       [0, 3, 0],\n",
       "       [0, 0, 4]])"
      ]
     },
     "execution_count": 88,
     "metadata": {},
     "output_type": "execute_result"
    }
   ],
   "source": [
    "arr20"
   ]
  },
  {
   "cell_type": "code",
   "execution_count": 89,
   "id": "338c8832",
   "metadata": {},
   "outputs": [
    {
     "data": {
      "text/plain": [
       "array([[0.5       , 0.        , 0.        ],\n",
       "       [0.        , 0.33333333, 0.        ],\n",
       "       [0.        , 0.        , 0.25      ]])"
      ]
     },
     "execution_count": 89,
     "metadata": {},
     "output_type": "execute_result"
    },
    {
     "data": {
      "text/plain": [
       "array([[0.5       , 0.        , 0.        ],\n",
       "       [0.        , 0.33333333, 0.        ],\n",
       "       [0.        , 0.        , 0.25      ]])"
      ]
     },
     "execution_count": 89,
     "metadata": {},
     "output_type": "execute_result"
    }
   ],
   "source": [
    "np.linalg.inv(arr20)"
   ]
  },
  {
   "cell_type": "code",
   "execution_count": 90,
   "id": "f4c2bef3",
   "metadata": {},
   "outputs": [
    {
     "data": {
      "text/plain": [
       "(array([2., 3., 4.]),\n",
       " array([[1., 0., 0.],\n",
       "        [0., 1., 0.],\n",
       "        [0., 0., 1.]]))"
      ]
     },
     "execution_count": 90,
     "metadata": {},
     "output_type": "execute_result"
    },
    {
     "data": {
      "text/plain": [
       "(array([2., 3., 4.]),\n",
       " array([[1., 0., 0.],\n",
       "        [0., 1., 0.],\n",
       "        [0., 0., 1.]]))"
      ]
     },
     "execution_count": 90,
     "metadata": {},
     "output_type": "execute_result"
    }
   ],
   "source": [
    "np.linalg.eig(arr20) # eigenvalues and right eigenvectors"
   ]
  },
  {
   "cell_type": "code",
   "execution_count": 91,
   "id": "cd0338d7",
   "metadata": {},
   "outputs": [
    {
     "data": {
      "text/plain": [
       "(array([210.86362385, -31.13452883,   6.40398374,  21.86692124]),\n",
       " array([[ 0.40594263,  0.78317756, -0.6311518 ,  0.69350104],\n",
       "        [ 0.27649738, -0.48743775, -0.31597211, -0.2976042 ],\n",
       "        [ 0.54836544,  0.20699165,  0.69457666, -0.55478491],\n",
       "        [ 0.6767977 , -0.32587085, -0.13918438,  0.35028811]]))"
      ]
     },
     "execution_count": 91,
     "metadata": {},
     "output_type": "execute_result"
    },
    {
     "data": {
      "text/plain": [
       "(array([210.86362385, -31.13452883,   6.40398374,  21.86692124]),\n",
       " array([[ 0.40594263,  0.78317756, -0.6311518 ,  0.69350104],\n",
       "        [ 0.27649738, -0.48743775, -0.31597211, -0.2976042 ],\n",
       "        [ 0.54836544,  0.20699165,  0.69457666, -0.55478491],\n",
       "        [ 0.6767977 , -0.32587085, -0.13918438,  0.35028811]]))"
      ]
     },
     "execution_count": 91,
     "metadata": {},
     "output_type": "execute_result"
    }
   ],
   "source": [
    "np.linalg.eig(marks2) # eigenvalues and right eigenvectors"
   ]
  },
  {
   "cell_type": "markdown",
   "id": "a4a02529",
   "metadata": {},
   "source": [
    "# <h2><center>Soultion of the system of linear equations<center><h2>"
   ]
  },
  {
   "cell_type": "code",
   "execution_count": 92,
   "id": "424d0cbb",
   "metadata": {},
   "outputs": [
    {
     "data": {
      "text/plain": [
       "array([[10, 20, 30, 88],\n",
       "       [34, 33, 46, 15],\n",
       "       [34, 56, 76, 66],\n",
       "       [55, 45, 87, 89]])"
      ]
     },
     "execution_count": 92,
     "metadata": {},
     "output_type": "execute_result"
    },
    {
     "data": {
      "text/plain": [
       "array([[10, 20, 30, 88],\n",
       "       [34, 33, 46, 15],\n",
       "       [34, 56, 76, 66],\n",
       "       [55, 45, 87, 89]])"
      ]
     },
     "execution_count": 92,
     "metadata": {},
     "output_type": "execute_result"
    }
   ],
   "source": [
    "arr21=np.array([1,2,3,4] )\n",
    "marks2"
   ]
  },
  {
   "cell_type": "code",
   "execution_count": 93,
   "id": "0faa6863",
   "metadata": {},
   "outputs": [
    {
     "data": {
      "text/plain": [
       "array([ 0.00510142, -0.02788268,  0.06089724, -0.00363952])"
      ]
     },
     "execution_count": 93,
     "metadata": {},
     "output_type": "execute_result"
    },
    {
     "data": {
      "text/plain": [
       "array([ 0.00510142, -0.02788268,  0.06089724, -0.00363952])"
      ]
     },
     "execution_count": 93,
     "metadata": {},
     "output_type": "execute_result"
    }
   ],
   "source": [
    "np.linalg.solve(marks2,arr21)"
   ]
  },
  {
   "cell_type": "code",
   "execution_count": 94,
   "id": "98043915",
   "metadata": {},
   "outputs": [
    {
     "name": "stdout",
     "output_type": "stream",
     "text": [
      "The solution of the system of linear equations\n",
      " [[10 20 30 88]\n",
      " [34 33 46 15]\n",
      " [34 56 76 66]\n",
      " [55 45 87 89]]X= [1 2 3 4] is \n",
      "[ 0.00510142 -0.02788268  0.06089724 -0.00363952]\n",
      "The solution of the system of linear equations\n",
      " [[11 23 30 88]\n",
      " [37 33 46 34]\n",
      " [34 65 76 66]\n",
      " [55 35 87 89]]X= [1 2 3 4] is \n",
      "[ 0.00475816 -0.01356575  0.05187368 -0.00336975]\n",
      "The solution of the system of linear equations\n",
      " [[10 20 30 88]\n",
      " [34 33 46 15]\n",
      " [34 56 76 66]\n",
      " [55 45 87 89]]X= [1 2 3 4] is \n",
      "[ 0.00510142 -0.02788268  0.06089724 -0.00363952]\n",
      "The solution of the system of linear equations\n",
      " [[11 23 30 88]\n",
      " [37 33 46 34]\n",
      " [34 65 76 66]\n",
      " [55 35 87 89]]X= [1 2 3 4] is \n",
      "[ 0.00475816 -0.01356575  0.05187368 -0.00336975]\n"
     ]
    }
   ],
   "source": [
    "for i in range(4):\n",
    "    mat=eval(f\"marks{i}\")\n",
    "    arr21t=np.transpose(arr21)\n",
    "    if mat.shape[0]==mat.shape[1]:\n",
    "        x=eval(f\"np.linalg.solve(marks{i},arr21)\")\n",
    "        print(f\"The solution of the system of linear equations\\n {mat}X= {arr21t} is \\n{x}\")"
   ]
  },
  {
   "cell_type": "markdown",
   "id": "cfe40605",
   "metadata": {},
   "source": [
    "# <h2><center>Sorting and Transpose<center><h2>"
   ]
  },
  {
   "cell_type": "code",
   "execution_count": 95,
   "id": "27856c67",
   "metadata": {},
   "outputs": [
    {
     "data": {
      "text/plain": [
       "(array([[10, 20, 30],\n",
       "        [34, 33, 46],\n",
       "        [34, 56, 76],\n",
       "        [55, 45, 87]]),\n",
       " array([[10, 34, 34, 55],\n",
       "        [20, 33, 56, 45],\n",
       "        [30, 46, 76, 87]]))"
      ]
     },
     "execution_count": 95,
     "metadata": {},
     "output_type": "execute_result"
    },
    {
     "data": {
      "text/plain": [
       "(array([[10, 20, 30],\n",
       "        [34, 33, 46],\n",
       "        [34, 56, 76],\n",
       "        [55, 45, 87]]),\n",
       " array([[10, 34, 34, 55],\n",
       "        [20, 33, 56, 45],\n",
       "        [30, 46, 76, 87]]))"
      ]
     },
     "execution_count": 95,
     "metadata": {},
     "output_type": "execute_result"
    }
   ],
   "source": [
    "marks1,np.transpose(marks1)"
   ]
  },
  {
   "cell_type": "code",
   "execution_count": 96,
   "id": "4dc14492",
   "metadata": {},
   "outputs": [
    {
     "data": {
      "text/plain": [
       "(array([[10, 20, 30, 88],\n",
       "        [34, 33, 46, 15],\n",
       "        [34, 56, 76, 66],\n",
       "        [55, 45, 87, 89]]),\n",
       " array([[10, 34, 34, 55],\n",
       "        [20, 33, 56, 45],\n",
       "        [30, 46, 76, 87],\n",
       "        [88, 15, 66, 89]]))"
      ]
     },
     "execution_count": 96,
     "metadata": {},
     "output_type": "execute_result"
    },
    {
     "data": {
      "text/plain": [
       "(array([[10, 20, 30, 88],\n",
       "        [34, 33, 46, 15],\n",
       "        [34, 56, 76, 66],\n",
       "        [55, 45, 87, 89]]),\n",
       " array([[10, 34, 34, 55],\n",
       "        [20, 33, 56, 45],\n",
       "        [30, 46, 76, 87],\n",
       "        [88, 15, 66, 89]]))"
      ]
     },
     "execution_count": 96,
     "metadata": {},
     "output_type": "execute_result"
    }
   ],
   "source": [
    "marks2,np.transpose(marks2)"
   ]
  },
  {
   "cell_type": "markdown",
   "id": "14f73a9a",
   "metadata": {},
   "source": [
    "# <h2><center>Concatenation<h2><center>"
   ]
  },
  {
   "cell_type": "code",
   "execution_count": 97,
   "id": "c8d0fd6d",
   "metadata": {},
   "outputs": [
    {
     "data": {
      "text/plain": [
       "(array([[10, 20, 30, 88],\n",
       "        [34, 33, 46, 15],\n",
       "        [34, 56, 76, 66],\n",
       "        [55, 45, 87, 89]]),\n",
       " array([[11, 23, 30, 88],\n",
       "        [37, 33, 46, 34],\n",
       "        [34, 65, 76, 66],\n",
       "        [55, 35, 87, 89]]))"
      ]
     },
     "execution_count": 97,
     "metadata": {},
     "output_type": "execute_result"
    },
    {
     "data": {
      "text/plain": [
       "(array([[10, 20, 30, 88],\n",
       "        [34, 33, 46, 15],\n",
       "        [34, 56, 76, 66],\n",
       "        [55, 45, 87, 89]]),\n",
       " array([[11, 23, 30, 88],\n",
       "        [37, 33, 46, 34],\n",
       "        [34, 65, 76, 66],\n",
       "        [55, 35, 87, 89]]))"
      ]
     },
     "execution_count": 97,
     "metadata": {},
     "output_type": "execute_result"
    }
   ],
   "source": [
    "marks2,marks3"
   ]
  },
  {
   "cell_type": "code",
   "execution_count": 98,
   "id": "53fa1c2c",
   "metadata": {},
   "outputs": [
    {
     "data": {
      "text/plain": [
       "array([[10, 20, 30, 88, 11, 23, 30, 88],\n",
       "       [34, 33, 46, 15, 37, 33, 46, 34],\n",
       "       [34, 56, 76, 66, 34, 65, 76, 66],\n",
       "       [55, 45, 87, 89, 55, 35, 87, 89]])"
      ]
     },
     "execution_count": 98,
     "metadata": {},
     "output_type": "execute_result"
    },
    {
     "data": {
      "text/plain": [
       "array([[10, 20, 30, 88, 11, 23, 30, 88],\n",
       "       [34, 33, 46, 15, 37, 33, 46, 34],\n",
       "       [34, 56, 76, 66, 34, 65, 76, 66],\n",
       "       [55, 45, 87, 89, 55, 35, 87, 89]])"
      ]
     },
     "execution_count": 98,
     "metadata": {},
     "output_type": "execute_result"
    }
   ],
   "source": [
    "np.concatenate((marks2,marks3),axis=1)"
   ]
  },
  {
   "cell_type": "code",
   "execution_count": 99,
   "id": "c6d7fe12",
   "metadata": {},
   "outputs": [
    {
     "data": {
      "text/plain": [
       "array([[10, 20, 30, 88],\n",
       "       [34, 33, 46, 15],\n",
       "       [34, 56, 76, 66],\n",
       "       [55, 45, 87, 89],\n",
       "       [11, 23, 30, 88],\n",
       "       [37, 33, 46, 34],\n",
       "       [34, 65, 76, 66],\n",
       "       [55, 35, 87, 89]])"
      ]
     },
     "execution_count": 99,
     "metadata": {},
     "output_type": "execute_result"
    },
    {
     "data": {
      "text/plain": [
       "array([[10, 20, 30, 88],\n",
       "       [34, 33, 46, 15],\n",
       "       [34, 56, 76, 66],\n",
       "       [55, 45, 87, 89],\n",
       "       [11, 23, 30, 88],\n",
       "       [37, 33, 46, 34],\n",
       "       [34, 65, 76, 66],\n",
       "       [55, 35, 87, 89]])"
      ]
     },
     "execution_count": 99,
     "metadata": {},
     "output_type": "execute_result"
    }
   ],
   "source": [
    "np.concatenate((marks2,marks3),axis=0)"
   ]
  },
  {
   "cell_type": "markdown",
   "id": "0861361e",
   "metadata": {},
   "source": [
    "# <h2><center>Reshaping of Arrays<center><h2>"
   ]
  },
  {
   "cell_type": "code",
   "execution_count": 100,
   "id": "d67eeccf",
   "metadata": {},
   "outputs": [
    {
     "data": {
      "text/plain": [
       "array([1, 2, 3, 5, 6, 8, 9])"
      ]
     },
     "execution_count": 100,
     "metadata": {},
     "output_type": "execute_result"
    },
    {
     "data": {
      "text/plain": [
       "array([1, 2, 3, 5, 6, 8, 9])"
      ]
     },
     "execution_count": 100,
     "metadata": {},
     "output_type": "execute_result"
    }
   ],
   "source": [
    "arr1"
   ]
  },
  {
   "cell_type": "code",
   "execution_count": 101,
   "id": "bdbe8faf",
   "metadata": {},
   "outputs": [
    {
     "data": {
      "text/plain": [
       "7"
      ]
     },
     "execution_count": 101,
     "metadata": {},
     "output_type": "execute_result"
    },
    {
     "data": {
      "text/plain": [
       "7"
      ]
     },
     "execution_count": 101,
     "metadata": {},
     "output_type": "execute_result"
    }
   ],
   "source": [
    "arr1.size"
   ]
  },
  {
   "cell_type": "code",
   "execution_count": 102,
   "id": "b43a4bf1",
   "metadata": {},
   "outputs": [
    {
     "data": {
      "text/plain": [
       "4"
      ]
     },
     "execution_count": 102,
     "metadata": {},
     "output_type": "execute_result"
    },
    {
     "data": {
      "text/plain": [
       "4"
      ]
     },
     "execution_count": 102,
     "metadata": {},
     "output_type": "execute_result"
    }
   ],
   "source": [
    "arr2.size"
   ]
  },
  {
   "cell_type": "code",
   "execution_count": 103,
   "id": "cd38091c",
   "metadata": {},
   "outputs": [
    {
     "data": {
      "text/plain": [
       "array(['2', '3', '4', 'hello'], dtype='<U11')"
      ]
     },
     "execution_count": 103,
     "metadata": {},
     "output_type": "execute_result"
    },
    {
     "data": {
      "text/plain": [
       "array(['2', '3', '4', 'hello'], dtype='<U11')"
      ]
     },
     "execution_count": 103,
     "metadata": {},
     "output_type": "execute_result"
    }
   ],
   "source": [
    "arr2"
   ]
  },
  {
   "cell_type": "code",
   "execution_count": 104,
   "id": "a4463571",
   "metadata": {},
   "outputs": [
    {
     "data": {
      "text/plain": [
       "array([['2', '3'],\n",
       "       ['4', 'hello']], dtype='<U11')"
      ]
     },
     "execution_count": 104,
     "metadata": {},
     "output_type": "execute_result"
    },
    {
     "data": {
      "text/plain": [
       "array([['2', '3'],\n",
       "       ['4', 'hello']], dtype='<U11')"
      ]
     },
     "execution_count": 104,
     "metadata": {},
     "output_type": "execute_result"
    }
   ],
   "source": [
    "arr2.reshape(2,2)"
   ]
  },
  {
   "cell_type": "markdown",
   "id": "8bfb550c",
   "metadata": {},
   "source": [
    "# <h2><center> Splitting Arrays<h2><center>"
   ]
  },
  {
   "cell_type": "code",
   "execution_count": 105,
   "id": "fd219ee6",
   "metadata": {},
   "outputs": [
    {
     "data": {
      "text/plain": [
       "(array([[10, 20, 30, 88],\n",
       "        [34, 33, 46, 15],\n",
       "        [34, 56, 76, 66],\n",
       "        [55, 45, 87, 89]]),\n",
       " array([[11, 23, 30, 88],\n",
       "        [37, 33, 46, 34],\n",
       "        [34, 65, 76, 66],\n",
       "        [55, 35, 87, 89]]))"
      ]
     },
     "execution_count": 105,
     "metadata": {},
     "output_type": "execute_result"
    },
    {
     "data": {
      "text/plain": [
       "(array([[10, 20, 30, 88],\n",
       "        [34, 33, 46, 15],\n",
       "        [34, 56, 76, 66],\n",
       "        [55, 45, 87, 89]]),\n",
       " array([[11, 23, 30, 88],\n",
       "        [37, 33, 46, 34],\n",
       "        [34, 65, 76, 66],\n",
       "        [55, 35, 87, 89]]))"
      ]
     },
     "execution_count": 105,
     "metadata": {},
     "output_type": "execute_result"
    }
   ],
   "source": [
    "marks2,marks3"
   ]
  },
  {
   "cell_type": "code",
   "execution_count": 106,
   "id": "a917cee1",
   "metadata": {},
   "outputs": [],
   "source": [
    "first,second,third=np.split(marks2,[1,3],axis=0)"
   ]
  },
  {
   "cell_type": "code",
   "execution_count": 107,
   "id": "363d3672",
   "metadata": {},
   "outputs": [
    {
     "data": {
      "text/plain": [
       "(array([[10, 20, 30, 88]]),\n",
       " array([[34, 33, 46, 15],\n",
       "        [34, 56, 76, 66]]),\n",
       " array([[55, 45, 87, 89]]))"
      ]
     },
     "execution_count": 107,
     "metadata": {},
     "output_type": "execute_result"
    },
    {
     "data": {
      "text/plain": [
       "(array([[10, 20, 30, 88]]),\n",
       " array([[34, 33, 46, 15],\n",
       "        [34, 56, 76, 66]]),\n",
       " array([[55, 45, 87, 89]]))"
      ]
     },
     "execution_count": 107,
     "metadata": {},
     "output_type": "execute_result"
    }
   ],
   "source": [
    "first,second,third"
   ]
  },
  {
   "cell_type": "code",
   "execution_count": 108,
   "id": "82e91bd1",
   "metadata": {},
   "outputs": [],
   "source": [
    "first,second,third=np.split(marks2,[1,3],axis=1)"
   ]
  },
  {
   "cell_type": "code",
   "execution_count": 109,
   "id": "9776f38c",
   "metadata": {},
   "outputs": [
    {
     "data": {
      "text/plain": [
       "(array([[10],\n",
       "        [34],\n",
       "        [34],\n",
       "        [55]]),\n",
       " array([[20, 30],\n",
       "        [33, 46],\n",
       "        [56, 76],\n",
       "        [45, 87]]),\n",
       " array([[88],\n",
       "        [15],\n",
       "        [66],\n",
       "        [89]]))"
      ]
     },
     "execution_count": 109,
     "metadata": {},
     "output_type": "execute_result"
    },
    {
     "data": {
      "text/plain": [
       "(array([[10],\n",
       "        [34],\n",
       "        [34],\n",
       "        [55]]),\n",
       " array([[20, 30],\n",
       "        [33, 46],\n",
       "        [56, 76],\n",
       "        [45, 87]]),\n",
       " array([[88],\n",
       "        [15],\n",
       "        [66],\n",
       "        [89]]))"
      ]
     },
     "execution_count": 109,
     "metadata": {},
     "output_type": "execute_result"
    }
   ],
   "source": [
    "first,second,third"
   ]
  },
  {
   "cell_type": "code",
   "execution_count": 110,
   "id": "f6fe1791",
   "metadata": {},
   "outputs": [],
   "source": [
    "first,second=np.split(marks2,2,axis=1)"
   ]
  },
  {
   "cell_type": "code",
   "execution_count": 111,
   "id": "9e393e8b",
   "metadata": {},
   "outputs": [
    {
     "data": {
      "text/plain": [
       "(array([[10, 20],\n",
       "        [34, 33],\n",
       "        [34, 56],\n",
       "        [55, 45]]),\n",
       " array([[30, 88],\n",
       "        [46, 15],\n",
       "        [76, 66],\n",
       "        [87, 89]]))"
      ]
     },
     "execution_count": 111,
     "metadata": {},
     "output_type": "execute_result"
    },
    {
     "data": {
      "text/plain": [
       "(array([[10, 20],\n",
       "        [34, 33],\n",
       "        [34, 56],\n",
       "        [55, 45]]),\n",
       " array([[30, 88],\n",
       "        [46, 15],\n",
       "        [76, 66],\n",
       "        [87, 89]]))"
      ]
     },
     "execution_count": 111,
     "metadata": {},
     "output_type": "execute_result"
    }
   ],
   "source": [
    "first,second \n"
   ]
  },
  {
   "cell_type": "code",
   "execution_count": 112,
   "id": "80144c7f",
   "metadata": {},
   "outputs": [],
   "source": [
    "first,second=np.split(marks2,2,axis=0)"
   ]
  },
  {
   "cell_type": "code",
   "execution_count": 113,
   "id": "2abbf13f",
   "metadata": {},
   "outputs": [
    {
     "data": {
      "text/plain": [
       "(array([[10, 20, 30, 88],\n",
       "        [34, 33, 46, 15]]),\n",
       " array([[34, 56, 76, 66],\n",
       "        [55, 45, 87, 89]]))"
      ]
     },
     "execution_count": 113,
     "metadata": {},
     "output_type": "execute_result"
    },
    {
     "data": {
      "text/plain": [
       "(array([[10, 20, 30, 88],\n",
       "        [34, 33, 46, 15]]),\n",
       " array([[34, 56, 76, 66],\n",
       "        [55, 45, 87, 89]]))"
      ]
     },
     "execution_count": 113,
     "metadata": {},
     "output_type": "execute_result"
    }
   ],
   "source": [
    "first,second"
   ]
  },
  {
   "cell_type": "markdown",
   "id": "668ecf84",
   "metadata": {},
   "source": [
    "# <h2><center>Statistical Operations on Arrays<h2><center >"
   ]
  },
  {
   "cell_type": "code",
   "execution_count": 114,
   "id": "179ac19a",
   "metadata": {},
   "outputs": [
    {
     "data": {
      "text/plain": [
       "(array([[10, 20, 30, 88],\n",
       "        [34, 33, 46, 15],\n",
       "        [34, 56, 76, 66],\n",
       "        [55, 45, 87, 89]]),\n",
       " array([[11, 23, 30, 88],\n",
       "        [37, 33, 46, 34],\n",
       "        [34, 65, 76, 66],\n",
       "        [55, 35, 87, 89]]))"
      ]
     },
     "execution_count": 114,
     "metadata": {},
     "output_type": "execute_result"
    },
    {
     "data": {
      "text/plain": [
       "(array([[10, 20, 30, 88],\n",
       "        [34, 33, 46, 15],\n",
       "        [34, 56, 76, 66],\n",
       "        [55, 45, 87, 89]]),\n",
       " array([[11, 23, 30, 88],\n",
       "        [37, 33, 46, 34],\n",
       "        [34, 65, 76, 66],\n",
       "        [55, 35, 87, 89]]))"
      ]
     },
     "execution_count": 114,
     "metadata": {},
     "output_type": "execute_result"
    }
   ],
   "source": [
    "marks2,marks3"
   ]
  },
  {
   "cell_type": "code",
   "execution_count": 115,
   "id": "06863d0b",
   "metadata": {},
   "outputs": [
    {
     "data": {
      "text/plain": [
       "array([148, 128, 232, 276])"
      ]
     },
     "execution_count": 115,
     "metadata": {},
     "output_type": "execute_result"
    },
    {
     "data": {
      "text/plain": [
       "array([148, 128, 232, 276])"
      ]
     },
     "execution_count": 115,
     "metadata": {},
     "output_type": "execute_result"
    }
   ],
   "source": [
    "marks2.sum(axis=1) #axis=1 means the sum of each row"
   ]
  },
  {
   "cell_type": "code",
   "execution_count": 116,
   "id": "2dec2e72",
   "metadata": {},
   "outputs": [
    {
     "data": {
      "text/plain": [
       "array([133, 154, 239, 258])"
      ]
     },
     "execution_count": 116,
     "metadata": {},
     "output_type": "execute_result"
    },
    {
     "data": {
      "text/plain": [
       "array([133, 154, 239, 258])"
      ]
     },
     "execution_count": 116,
     "metadata": {},
     "output_type": "execute_result"
    }
   ],
   "source": [
    "marks2.sum(axis=0) #axis=0 means the sum of each column"
   ]
  },
  {
   "cell_type": "code",
   "execution_count": 117,
   "id": "acf1ded5",
   "metadata": {},
   "outputs": [
    {
     "data": {
      "text/plain": [
       "array([88, 46, 76, 89])"
      ]
     },
     "execution_count": 117,
     "metadata": {},
     "output_type": "execute_result"
    },
    {
     "data": {
      "text/plain": [
       "array([88, 46, 76, 89])"
      ]
     },
     "execution_count": 117,
     "metadata": {},
     "output_type": "execute_result"
    }
   ],
   "source": [
    "marks3.max(axis=1)  #axis=1 means the sum of each row"
   ]
  },
  {
   "cell_type": "code",
   "execution_count": 118,
   "id": "10613459",
   "metadata": {},
   "outputs": [
    {
     "data": {
      "text/plain": [
       "array([55, 65, 87, 89])"
      ]
     },
     "execution_count": 118,
     "metadata": {},
     "output_type": "execute_result"
    },
    {
     "data": {
      "text/plain": [
       "array([55, 65, 87, 89])"
      ]
     },
     "execution_count": 118,
     "metadata": {},
     "output_type": "execute_result"
    }
   ],
   "source": [
    "marks3.max(axis=0) #axis=0 means the sum of each column"
   ]
  },
  {
   "cell_type": "code",
   "execution_count": 119,
   "id": "4d9ba41e",
   "metadata": {},
   "outputs": [
    {
     "data": {
      "text/plain": [
       "array([37., 32., 58., 69.])"
      ]
     },
     "execution_count": 119,
     "metadata": {},
     "output_type": "execute_result"
    },
    {
     "data": {
      "text/plain": [
       "array([37., 32., 58., 69.])"
      ]
     },
     "execution_count": 119,
     "metadata": {},
     "output_type": "execute_result"
    }
   ],
   "source": [
    "marks2.mean(axis=1) #axis=1 means the mean of each row"
   ]
  },
  {
   "cell_type": "code",
   "execution_count": 120,
   "id": "dccd861b",
   "metadata": {},
   "outputs": [
    {
     "data": {
      "text/plain": [
       "array([33.25, 38.5 , 59.75, 64.5 ])"
      ]
     },
     "execution_count": 120,
     "metadata": {},
     "output_type": "execute_result"
    },
    {
     "data": {
      "text/plain": [
       "array([33.25, 38.5 , 59.75, 64.5 ])"
      ]
     },
     "execution_count": 120,
     "metadata": {},
     "output_type": "execute_result"
    }
   ],
   "source": [
    "marks2.mean(axis=0) #axis=0 means the mean of each column"
   ]
  },
  {
   "cell_type": "code",
   "execution_count": 121,
   "id": "a1078556",
   "metadata": {},
   "outputs": [
    {
     "data": {
      "text/plain": [
       "array([29.65636525,  5.12347538, 15.75396775, 22.64398375])"
      ]
     },
     "execution_count": 121,
     "metadata": {},
     "output_type": "execute_result"
    },
    {
     "data": {
      "text/plain": [
       "array([29.65636525,  5.12347538, 15.75396775, 22.64398375])"
      ]
     },
     "execution_count": 121,
     "metadata": {},
     "output_type": "execute_result"
    }
   ],
   "source": [
    "marks3.std(axis=1) #axis=1 means the standard drviation of each row"
   ]
  },
  {
   "cell_type": "code",
   "execution_count": 122,
   "id": "7e890f5a",
   "metadata": {},
   "outputs": [
    {
     "data": {
      "text/plain": [
       "array([15.64249021, 15.68438714, 22.80761934, 22.3313121 ])"
      ]
     },
     "execution_count": 122,
     "metadata": {},
     "output_type": "execute_result"
    },
    {
     "data": {
      "text/plain": [
       "array([15.64249021, 15.68438714, 22.80761934, 22.3313121 ])"
      ]
     },
     "execution_count": 122,
     "metadata": {},
     "output_type": "execute_result"
    }
   ],
   "source": [
    "marks3.std(axis=0) #axis=0 means the standard drviation of each column"
   ]
  },
  {
   "cell_type": "markdown",
   "id": "62589078",
   "metadata": {},
   "source": [
    "# <h2><center>Random Generation and random  module<center><h2>"
   ]
  },
  {
   "cell_type": "code",
   "execution_count": 123,
   "id": "303d4813",
   "metadata": {},
   "outputs": [
    {
     "data": {
      "text/plain": [
       "array([ 95,  66,  68,  78,  96,  79,  67,  47,  22,   5,  50,  48,  25,\n",
       "        18,  25,  79,  84,  13,  11,  36,  44,  49,  88,  69,  97,  70,\n",
       "        41,  80,  61,   3,  91,  64,  17,  11,  55,  22,  24,  62,  82,\n",
       "        69,  36,  81,   2,  23,  37,  26,  17,  93,  90,  43,  20,  58,\n",
       "        21,  42,  14,  21,   5,  11,  65,  70,  21,   7,  52,  17,  54,\n",
       "        54,  33,  44,  76, 100,  94,  20,  17,  55,  12,  75,  49,  39,\n",
       "        37,   6,   7,  73,  80,  39,  12,  62,  23,  98,  71,  29,  36,\n",
       "        81,  23,  17,  45,  50,  68,   7,  59,  54,  84,  55,  28,  17,\n",
       "        78,  78,  50,  80,  18,  27,  71,  91,  67,  63,  81,  97,  80,\n",
       "        98,  60,  72,  47,  41,  61,  95,   1,  99,  59,   2,  76,  69,\n",
       "        97,   1,  26,  89,  95,  16,  62,  83,  65,  15,  95,   9,  34,\n",
       "        36,  36,  29,   5,  41,  24,  25,  76,  29,  67,  33,  34,  46,\n",
       "        33,  96,  66,  64,  79,  48,  75,  63,  43,  54,  32,  86,  46,\n",
       "        36,  86,  88,  20,  13,  76,   6,  72,  37,  40,  71,  66,  73,\n",
       "        21,  76,  65,  65,  29,  49,  30,  73,  74,  13,  44,  65,  42,\n",
       "        36,  12,  90,  66,  13])"
      ]
     },
     "execution_count": 123,
     "metadata": {},
     "output_type": "execute_result"
    },
    {
     "data": {
      "text/plain": [
       "array([ 95,  66,  68,  78,  96,  79,  67,  47,  22,   5,  50,  48,  25,\n",
       "        18,  25,  79,  84,  13,  11,  36,  44,  49,  88,  69,  97,  70,\n",
       "        41,  80,  61,   3,  91,  64,  17,  11,  55,  22,  24,  62,  82,\n",
       "        69,  36,  81,   2,  23,  37,  26,  17,  93,  90,  43,  20,  58,\n",
       "        21,  42,  14,  21,   5,  11,  65,  70,  21,   7,  52,  17,  54,\n",
       "        54,  33,  44,  76, 100,  94,  20,  17,  55,  12,  75,  49,  39,\n",
       "        37,   6,   7,  73,  80,  39,  12,  62,  23,  98,  71,  29,  36,\n",
       "        81,  23,  17,  45,  50,  68,   7,  59,  54,  84,  55,  28,  17,\n",
       "        78,  78,  50,  80,  18,  27,  71,  91,  67,  63,  81,  97,  80,\n",
       "        98,  60,  72,  47,  41,  61,  95,   1,  99,  59,   2,  76,  69,\n",
       "        97,   1,  26,  89,  95,  16,  62,  83,  65,  15,  95,   9,  34,\n",
       "        36,  36,  29,   5,  41,  24,  25,  76,  29,  67,  33,  34,  46,\n",
       "        33,  96,  66,  64,  79,  48,  75,  63,  43,  54,  32,  86,  46,\n",
       "        36,  86,  88,  20,  13,  76,   6,  72,  37,  40,  71,  66,  73,\n",
       "        21,  76,  65,  65,  29,  49,  30,  73,  74,  13,  44,  65,  42,\n",
       "        36,  12,  90,  66,  13])"
      ]
     },
     "execution_count": 123,
     "metadata": {},
     "output_type": "execute_result"
    }
   ],
   "source": [
    "np.random.randint(1,101,200)  #it will generate 200 random inetegers from 1(inclusive) to 200(exclusive)"
   ]
  },
  {
   "cell_type": "code",
   "execution_count": 124,
   "id": "6b0a39a5",
   "metadata": {},
   "outputs": [
    {
     "data": {
      "text/plain": [
       "array([ 9, 11, 12,  7, 14, 18,  8, 12, 15, 11, 19, 13, 19, 11,  7,  7,  7,\n",
       "        9, 19, 13, 18, 14,  4,  6, 19, 13, 18, 16, 11,  3,  6, 19, 13,  7,\n",
       "        8,  1,  5,  5, 18, 19,  4,  6,  6,  8, 15, 15, 10, 18,  2, 15,  7,\n",
       "       16, 17, 17,  8, 19, 15,  2, 15,  4, 18,  4,  1, 19, 18, 19,  1, 19,\n",
       "        3, 16,  1, 10, 19, 13,  1, 11,  4,  7, 11, 14,  6,  4, 10, 13, 15,\n",
       "        2, 12,  1,  8,  2,  6, 17, 19,  6, 18,  7,  6,  8, 10,  7])"
      ]
     },
     "execution_count": 124,
     "metadata": {},
     "output_type": "execute_result"
    },
    {
     "data": {
      "text/plain": [
       "array([ 9, 11, 12,  7, 14, 18,  8, 12, 15, 11, 19, 13, 19, 11,  7,  7,  7,\n",
       "        9, 19, 13, 18, 14,  4,  6, 19, 13, 18, 16, 11,  3,  6, 19, 13,  7,\n",
       "        8,  1,  5,  5, 18, 19,  4,  6,  6,  8, 15, 15, 10, 18,  2, 15,  7,\n",
       "       16, 17, 17,  8, 19, 15,  2, 15,  4, 18,  4,  1, 19, 18, 19,  1, 19,\n",
       "        3, 16,  1, 10, 19, 13,  1, 11,  4,  7, 11, 14,  6,  4, 10, 13, 15,\n",
       "        2, 12,  1,  8,  2,  6, 17, 19,  6, 18,  7,  6,  8, 10,  7])"
      ]
     },
     "execution_count": 124,
     "metadata": {},
     "output_type": "execute_result"
    }
   ],
   "source": [
    "np.random.randint(1,20,100) #it will generate 200 random inetegers from 1(inclusive) to 20(exclusive)"
   ]
  },
  {
   "cell_type": "code",
   "execution_count": 125,
   "id": "d2da17b0",
   "metadata": {},
   "outputs": [
    {
     "data": {
      "text/plain": [
       "array([[0.46674937, 0.9571236 , 0.01364877],\n",
       "       [0.31996245, 0.29210291, 0.45173385]])"
      ]
     },
     "execution_count": 125,
     "metadata": {},
     "output_type": "execute_result"
    },
    {
     "data": {
      "text/plain": [
       "array([[0.46674937, 0.9571236 , 0.01364877],\n",
       "       [0.31996245, 0.29210291, 0.45173385]])"
      ]
     },
     "execution_count": 125,
     "metadata": {},
     "output_type": "execute_result"
    }
   ],
   "source": [
    "np.random.rand(2,3) #It will generate random number between 0 and 1 in 2*3 matrix"
   ]
  },
  {
   "cell_type": "code",
   "execution_count": 126,
   "id": "0e8078d6",
   "metadata": {},
   "outputs": [
    {
     "data": {
      "text/plain": [
       "array([[[0.6097385 , 0.31889786, 0.18063957],\n",
       "        [0.2590958 , 0.70841916, 0.81916867],\n",
       "        [0.48289816, 0.84160601, 0.68485419]],\n",
       "\n",
       "       [[0.49496139, 0.69567342, 0.52251025],\n",
       "        [0.95342082, 0.9029723 , 0.54306258],\n",
       "        [0.42758934, 0.88555204, 0.3576109 ]],\n",
       "\n",
       "       [[0.53721774, 0.75042078, 0.25699187],\n",
       "        [0.23575171, 0.73762193, 0.95962076],\n",
       "        [0.33862461, 0.03496338, 0.86612734]]])"
      ]
     },
     "execution_count": 126,
     "metadata": {},
     "output_type": "execute_result"
    },
    {
     "data": {
      "text/plain": [
       "array([[[0.6097385 , 0.31889786, 0.18063957],\n",
       "        [0.2590958 , 0.70841916, 0.81916867],\n",
       "        [0.48289816, 0.84160601, 0.68485419]],\n",
       "\n",
       "       [[0.49496139, 0.69567342, 0.52251025],\n",
       "        [0.95342082, 0.9029723 , 0.54306258],\n",
       "        [0.42758934, 0.88555204, 0.3576109 ]],\n",
       "\n",
       "       [[0.53721774, 0.75042078, 0.25699187],\n",
       "        [0.23575171, 0.73762193, 0.95962076],\n",
       "        [0.33862461, 0.03496338, 0.86612734]]])"
      ]
     },
     "execution_count": 126,
     "metadata": {},
     "output_type": "execute_result"
    }
   ],
   "source": [
    "np.random.rand(3,3,3)"
   ]
  },
  {
   "cell_type": "code",
   "execution_count": 127,
   "id": "97189cc1",
   "metadata": {},
   "outputs": [
    {
     "data": {
      "text/plain": [
       "array([[60, 57, 38, 54],\n",
       "       [78, 45, 99, 47],\n",
       "       [ 4, 37, 73, 85],\n",
       "       [45, 41, 12, 84]])"
      ]
     },
     "execution_count": 127,
     "metadata": {},
     "output_type": "execute_result"
    },
    {
     "data": {
      "text/plain": [
       "array([[60, 57, 38, 54],\n",
       "       [78, 45, 99, 47],\n",
       "       [ 4, 37, 73, 85],\n",
       "       [45, 41, 12, 84]])"
      ]
     },
     "execution_count": 127,
     "metadata": {},
     "output_type": "execute_result"
    }
   ],
   "source": [
    "np.random.randint(100,size=(4,4)) #from 0 to 99"
   ]
  },
  {
   "cell_type": "code",
   "execution_count": 128,
   "id": "87c69db2",
   "metadata": {},
   "outputs": [
    {
     "data": {
      "text/plain": [
       "array([[3, 7, 3, 3, 3],\n",
       "       [7, 3, 5, 3, 3],\n",
       "       [9, 5, 5, 9, 7]])"
      ]
     },
     "execution_count": 128,
     "metadata": {},
     "output_type": "execute_result"
    },
    {
     "data": {
      "text/plain": [
       "array([[3, 7, 3, 3, 3],\n",
       "       [7, 3, 5, 3, 3],\n",
       "       [9, 5, 5, 9, 7]])"
      ]
     },
     "execution_count": 128,
     "metadata": {},
     "output_type": "execute_result"
    }
   ],
   "source": [
    "np.random.choice([3, 5, 7, 9], size=(3, 5)) #It will chose numbers from the given array and generate a 3 *5 matrix\n"
   ]
  },
  {
   "cell_type": "code",
   "execution_count": 129,
   "id": "b1da8832",
   "metadata": {},
   "outputs": [
    {
     "data": {
      "text/plain": [
       "array([7, 7, 3, 5, 5, 5, 3, 7, 5, 7, 7, 7, 7, 7, 7, 7, 7, 7, 7, 7, 7, 7,\n",
       "       5, 5, 7, 7, 7, 7, 7, 7, 7, 7, 7, 7, 5, 7, 7, 5, 7, 7, 7, 3, 7, 5,\n",
       "       7, 7, 5, 5, 3, 7, 7, 3, 7, 7, 3, 3, 7, 5, 5, 5, 5, 5, 7, 7, 7, 7,\n",
       "       7, 7, 7, 7, 5, 7, 7, 5, 7, 7, 7, 7, 7, 3, 7, 5, 3, 7, 7, 7, 7, 5,\n",
       "       5, 7, 7, 7, 7, 7, 7, 7, 7, 7, 7, 7])"
      ]
     },
     "execution_count": 129,
     "metadata": {},
     "output_type": "execute_result"
    },
    {
     "data": {
      "text/plain": [
       "array([7, 7, 3, 5, 5, 5, 3, 7, 5, 7, 7, 7, 7, 7, 7, 7, 7, 7, 7, 7, 7, 7,\n",
       "       5, 5, 7, 7, 7, 7, 7, 7, 7, 7, 7, 7, 5, 7, 7, 5, 7, 7, 7, 3, 7, 5,\n",
       "       7, 7, 5, 5, 3, 7, 7, 3, 7, 7, 3, 3, 7, 5, 5, 5, 5, 5, 7, 7, 7, 7,\n",
       "       7, 7, 7, 7, 5, 7, 7, 5, 7, 7, 7, 7, 7, 3, 7, 5, 3, 7, 7, 7, 7, 5,\n",
       "       5, 7, 7, 7, 7, 7, 7, 7, 7, 7, 7, 7])"
      ]
     },
     "execution_count": 129,
     "metadata": {},
     "output_type": "execute_result"
    }
   ],
   "source": [
    " np.random.choice([3, 5, 7, 9], p=[0.1, 0.3, 0.6, 0.0], size=(100))"
   ]
  },
  {
   "cell_type": "code",
   "execution_count": 130,
   "id": "e497b0a9",
   "metadata": {},
   "outputs": [
    {
     "data": {
      "text/plain": [
       "array([[5, 5, 5, 7, 7],\n",
       "       [5, 7, 7, 7, 7],\n",
       "       [5, 7, 3, 7, 7]])"
      ]
     },
     "execution_count": 130,
     "metadata": {},
     "output_type": "execute_result"
    },
    {
     "data": {
      "text/plain": [
       "array([[5, 5, 5, 7, 7],\n",
       "       [5, 7, 7, 7, 7],\n",
       "       [5, 7, 3, 7, 7]])"
      ]
     },
     "execution_count": 130,
     "metadata": {},
     "output_type": "execute_result"
    }
   ],
   "source": [
    "np.random.choice([3, 5, 7, 9], p=[0.1, 0.3, 0.6, 0.0], size=(3, 5))"
   ]
  },
  {
   "cell_type": "code",
   "execution_count": 131,
   "id": "80b5d579",
   "metadata": {},
   "outputs": [],
   "source": [
    "np.random.shuffle(arr1) # make changes permanently"
   ]
  },
  {
   "cell_type": "code",
   "execution_count": 132,
   "id": "921e0ca6",
   "metadata": {},
   "outputs": [
    {
     "data": {
      "text/plain": [
       "array([6, 8, 1, 9, 2, 3, 5])"
      ]
     },
     "execution_count": 132,
     "metadata": {},
     "output_type": "execute_result"
    },
    {
     "data": {
      "text/plain": [
       "array([6, 8, 1, 9, 2, 3, 5])"
      ]
     },
     "execution_count": 132,
     "metadata": {},
     "output_type": "execute_result"
    }
   ],
   "source": [
    "arr1"
   ]
  },
  {
   "cell_type": "code",
   "execution_count": 133,
   "id": "bb9baf0d",
   "metadata": {},
   "outputs": [
    {
     "name": "stdout",
     "output_type": "stream",
     "text": [
      "['2' '3' '4' 'hello']\n",
      "['2' '4' 'hello' '3']\n",
      "['2' '3' '4' 'hello']\n",
      "['2' '3' '4' 'hello']\n",
      "['2' '4' 'hello' '3']\n",
      "['2' '3' '4' 'hello']\n"
     ]
    }
   ],
   "source": [
    "print(arr2)\n",
    "print(np.random.permutation(arr2)) # will not change permanently\n",
    "print(arr2)"
   ]
  },
  {
   "cell_type": "code",
   "execution_count": 134,
   "id": "004e9b70",
   "metadata": {},
   "outputs": [
    {
     "data": {
      "text/plain": [
       "array([-0.81161403,  0.66559354, -0.50953752,  1.54547836,  0.54512865,\n",
       "        0.19856148, -0.22287733,  0.69546674,  0.72065419,  0.87967158])"
      ]
     },
     "execution_count": 134,
     "metadata": {},
     "output_type": "execute_result"
    },
    {
     "data": {
      "text/plain": [
       "array([-0.81161403,  0.66559354, -0.50953752,  1.54547836,  0.54512865,\n",
       "        0.19856148, -0.22287733,  0.69546674,  0.72065419,  0.87967158])"
      ]
     },
     "execution_count": 134,
     "metadata": {},
     "output_type": "execute_result"
    }
   ],
   "source": [
    "np.random.normal(loc=0,scale=1,size=(10)) # will generate from N(0,1)"
   ]
  },
  {
   "cell_type": "code",
   "execution_count": 135,
   "id": "b5438aa7",
   "metadata": {},
   "outputs": [],
   "source": [
    "import seaborn as sns"
   ]
  },
  {
   "cell_type": "code",
   "execution_count": 136,
   "id": "5b6dc441",
   "metadata": {},
   "outputs": [
    {
     "name": "stderr",
     "output_type": "stream",
     "text": [
      "C:\\Users\\TOSHIBA\\anaconda3\\lib\\site-packages\\seaborn\\distributions.py:2619: FutureWarning: `distplot` is a deprecated function and will be removed in a future version. Please adapt your code to use either `displot` (a figure-level function with similar flexibility) or `kdeplot` (an axes-level function for kernel density plots).\n",
      "  warnings.warn(msg, FutureWarning)\n",
      "C:\\Users\\TOSHIBA\\anaconda3\\lib\\site-packages\\seaborn\\distributions.py:2619: FutureWarning: `distplot` is a deprecated function and will be removed in a future version. Please adapt your code to use either `displot` (a figure-level function with similar flexibility) or `kdeplot` (an axes-level function for kernel density plots).\n",
      "  warnings.warn(msg, FutureWarning)\n"
     ]
    },
    {
     "data": {
      "text/plain": [
       "<AxesSubplot:ylabel='Density'>"
      ]
     },
     "execution_count": 136,
     "metadata": {},
     "output_type": "execute_result"
    },
    {
     "data": {
      "text/plain": [
       "<AxesSubplot:ylabel='Density'>"
      ]
     },
     "execution_count": 136,
     "metadata": {},
     "output_type": "execute_result"
    },
    {
     "data": {
      "image/png": "[encoded data removed]",
      "text/plain": [
       "<Figure size 640x480 with 1 Axes>"
      ]
     },
     "metadata": {},
     "output_type": "display_data"
    },
    {
     "data": {
      "image/png": "[encoded data removed]",
      "text/plain": [
       "<Figure size 640x480 with 1 Axes>"
      ]
     },
     "metadata": {},
     "output_type": "display_data"
    }
   ],
   "source": [
    "sns.distplot(np.random.normal(loc=0,scale=1,size=(1000)),hist=False)"
   ]
  },
  {
   "cell_type": "code",
   "execution_count": 137,
   "id": "cf38c6d8",
   "metadata": {},
   "outputs": [
    {
     "name": "stderr",
     "output_type": "stream",
     "text": [
      "C:\\Users\\TOSHIBA\\anaconda3\\lib\\site-packages\\seaborn\\distributions.py:2619: FutureWarning: `distplot` is a deprecated function and will be removed in a future version. Please adapt your code to use either `displot` (a figure-level function with similar flexibility) or `histplot` (an axes-level function for histograms).\n",
      "  warnings.warn(msg, FutureWarning)\n",
      "C:\\Users\\TOSHIBA\\anaconda3\\lib\\site-packages\\seaborn\\distributions.py:2619: FutureWarning: `distplot` is a deprecated function and will be removed in a future version. Please adapt your code to use either `displot` (a figure-level function with similar flexibility) or `histplot` (an axes-level function for histograms).\n",
      "  warnings.warn(msg, FutureWarning)\n"
     ]
    },
    {
     "data": {
      "text/plain": [
       "<AxesSubplot:ylabel='Density'>"
      ]
     },
     "execution_count": 137,
     "metadata": {},
     "output_type": "execute_result"
    },
    {
     "data": {
      "text/plain": [
       "<AxesSubplot:ylabel='Density'>"
      ]
     },
     "execution_count": 137,
     "metadata": {},
     "output_type": "execute_result"
    },
    {
     "data": {
      "image/png": "[encoded data removed]",
      "text/plain": [
       "<Figure size 640x480 with 1 Axes>"
      ]
     },
     "metadata": {},
     "output_type": "display_data"
    },
    {
     "data": {
      "image/png": "[encoded data removed]",
      "text/plain": [
       "<Figure size 640x480 with 1 Axes>"
      ]
     },
     "metadata": {},
     "output_type": "display_data"
    }
   ],
   "source": [
    "bin1=np.random.binomial(n=10,p=0.9,size=1000)\n",
    "sns.distplot(bin1,hist=True)"
   ]
  },
  {
   "cell_type": "code",
   "execution_count": 138,
   "id": "6a531fe9",
   "metadata": {},
   "outputs": [
    {
     "name": "stderr",
     "output_type": "stream",
     "text": [
      "C:\\Users\\TOSHIBA\\anaconda3\\lib\\site-packages\\seaborn\\distributions.py:2619: FutureWarning: `distplot` is a deprecated function and will be removed in a future version. Please adapt your code to use either `displot` (a figure-level function with similar flexibility) or `kdeplot` (an axes-level function for kernel density plots).\n",
      "  warnings.warn(msg, FutureWarning)\n",
      "C:\\Users\\TOSHIBA\\anaconda3\\lib\\site-packages\\seaborn\\distributions.py:2619: FutureWarning: `distplot` is a deprecated function and will be removed in a future version. Please adapt your code to use either `displot` (a figure-level function with similar flexibility) or `kdeplot` (an axes-level function for kernel density plots).\n",
      "  warnings.warn(msg, FutureWarning)\n"
     ]
    },
    {
     "data": {
      "text/plain": [
       "<AxesSubplot:ylabel='Density'>"
      ]
     },
     "execution_count": 138,
     "metadata": {},
     "output_type": "execute_result"
    },
    {
     "name": "stderr",
     "output_type": "stream",
     "text": [
      "C:\\Users\\TOSHIBA\\anaconda3\\lib\\site-packages\\seaborn\\distributions.py:2619: FutureWarning: `distplot` is a deprecated function and will be removed in a future version. Please adapt your code to use either `displot` (a figure-level function with similar flexibility) or `kdeplot` (an axes-level function for kernel density plots).\n",
      "  warnings.warn(msg, FutureWarning)\n",
      "C:\\Users\\TOSHIBA\\anaconda3\\lib\\site-packages\\seaborn\\distributions.py:2619: FutureWarning: `distplot` is a deprecated function and will be removed in a future version. Please adapt your code to use either `displot` (a figure-level function with similar flexibility) or `kdeplot` (an axes-level function for kernel density plots).\n",
      "  warnings.warn(msg, FutureWarning)\n"
     ]
    },
    {
     "data": {
      "text/plain": [
       "<AxesSubplot:ylabel='Density'>"
      ]
     },
     "execution_count": 138,
     "metadata": {},
     "output_type": "execute_result"
    },
    {
     "data": {
      "image/png": "[encoded data removed]",
      "text/plain": [
       "<Figure size 640x480 with 1 Axes>"
      ]
     },
     "metadata": {},
     "output_type": "display_data"
    },
    {
     "data": {
      "image/png": "[encoded data removed]",
      "text/plain": [
       "<Figure size 640x480 with 1 Axes>"
      ]
     },
     "metadata": {},
     "output_type": "display_data"
    }
   ],
   "source": [
    "sns.distplot(np.random.normal(loc=50, scale=5, size=1000), hist=False, label=\"normal\")\n",
    "sns.distplot(np.random.binomial(n=100, p=0.5, size=1000), hist=False, label=\"binomial\")\n"
   ]
  },
  {
   "cell_type": "code",
   "execution_count": 139,
   "id": "56ccc798",
   "metadata": {},
   "outputs": [],
   "source": [
    "arr22=np.loadtxt(\"Studentdata.txt\",delimiter=\",\",skiprows=1)"
   ]
  },
  {
   "cell_type": "code",
   "execution_count": 140,
   "id": "f30581a8",
   "metadata": {},
   "outputs": [
    {
     "data": {
      "text/plain": [
       "array([[ 1., 36., 18., 57.],\n",
       "       [ 2., 22., 23., 45.],\n",
       "       [ 3., 43., 51., 37.],\n",
       "       [ 4., 41., 40., 60.],\n",
       "       [ 5., 13., 18., 37.]])"
      ]
     },
     "execution_count": 140,
     "metadata": {},
     "output_type": "execute_result"
    },
    {
     "data": {
      "text/plain": [
       "array([[ 1., 36., 18., 57.],\n",
       "       [ 2., 22., 23., 45.],\n",
       "       [ 3., 43., 51., 37.],\n",
       "       [ 4., 41., 40., 60.],\n",
       "       [ 5., 13., 18., 37.]])"
      ]
     },
     "execution_count": 140,
     "metadata": {},
     "output_type": "execute_result"
    }
   ],
   "source": [
    "arr22"
   ]
  },
  {
   "cell_type": "code",
   "execution_count": 141,
   "id": "e4001d95",
   "metadata": {},
   "outputs": [],
   "source": [
    "arr23=np.loadtxt(\"Studentdata.txt\",delimiter=\",\",skiprows=1,dtype=int)"
   ]
  },
  {
   "cell_type": "code",
   "execution_count": 142,
   "id": "16fb7929",
   "metadata": {},
   "outputs": [
    {
     "data": {
      "text/plain": [
       "array([[ 1, 36, 18, 57],\n",
       "       [ 2, 22, 23, 45],\n",
       "       [ 3, 43, 51, 37],\n",
       "       [ 4, 41, 40, 60],\n",
       "       [ 5, 13, 18, 37]])"
      ]
     },
     "execution_count": 142,
     "metadata": {},
     "output_type": "execute_result"
    },
    {
     "data": {
      "text/plain": [
       "array([[ 1, 36, 18, 57],\n",
       "       [ 2, 22, 23, 45],\n",
       "       [ 3, 43, 51, 37],\n",
       "       [ 4, 41, 40, 60],\n",
       "       [ 5, 13, 18, 37]])"
      ]
     },
     "execution_count": 142,
     "metadata": {},
     "output_type": "execute_result"
    }
   ],
   "source": [
    "arr23"
   ]
  },
  {
   "cell_type": "code",
   "execution_count": 143,
   "id": "8db176d8",
   "metadata": {},
   "outputs": [],
   "source": [
    "\n",
    "arr24=np.genfromtxt(\"Studentdata1.txt\",delimiter=\",\",skip_header=1)"
   ]
  },
  {
   "cell_type": "code",
   "execution_count": 144,
   "id": "859a2f1f",
   "metadata": {},
   "outputs": [
    {
     "data": {
      "text/plain": [
       "array([[ 1., 36., 18., 57.],\n",
       "       [ 2., nan, 23., 45.],\n",
       "       [ 3., 43., 51., nan],\n",
       "       [ 4., 41., 40., 60.],\n",
       "       [ 5., 13., 18., nan]])"
      ]
     },
     "execution_count": 144,
     "metadata": {},
     "output_type": "execute_result"
    },
    {
     "data": {
      "text/plain": [
       "array([[ 1., 36., 18., 57.],\n",
       "       [ 2., nan, 23., 45.],\n",
       "       [ 3., 43., 51., nan],\n",
       "       [ 4., 41., 40., 60.],\n",
       "       [ 5., 13., 18., nan]])"
      ]
     },
     "execution_count": 144,
     "metadata": {},
     "output_type": "execute_result"
    }
   ],
   "source": [
    "arr24"
   ]
  },
  {
   "cell_type": "code",
   "execution_count": 145,
   "id": "f358e6ef",
   "metadata": {},
   "outputs": [],
   "source": [
    "arr25=np.genfromtxt(\"Studentdata1.txt\",delimiter=\",\",skip_header=1,filling_values=55,dtype=int)"
   ]
  },
  {
   "cell_type": "code",
   "execution_count": 146,
   "id": "b7a71974",
   "metadata": {},
   "outputs": [
    {
     "data": {
      "text/plain": [
       "array([[ 1, 36, 18, 57],\n",
       "       [ 2, 55, 23, 45],\n",
       "       [ 3, 43, 51, 55],\n",
       "       [ 4, 41, 40, 60],\n",
       "       [ 5, 13, 18, 55]])"
      ]
     },
     "execution_count": 146,
     "metadata": {},
     "output_type": "execute_result"
    },
    {
     "data": {
      "text/plain": [
       "array([[ 1, 36, 18, 57],\n",
       "       [ 2, 55, 23, 45],\n",
       "       [ 3, 43, 51, 55],\n",
       "       [ 4, 41, 40, 60],\n",
       "       [ 5, 13, 18, 55]])"
      ]
     },
     "execution_count": 146,
     "metadata": {},
     "output_type": "execute_result"
    }
   ],
   "source": [
    "arr25"
   ]
  },
  {
   "cell_type": "code",
   "execution_count": 147,
   "id": "9fff8cbb",
   "metadata": {},
   "outputs": [],
   "source": [
    "np.savetxt(\"Studentdata2.txt\",arr25,delimiter=\",\",fmt=\"%i\")"
   ]
  },
  {
   "cell_type": "code",
   "execution_count": 148,
   "id": "2afae3b8",
   "metadata": {},
   "outputs": [
    {
     "name": "stdout",
     "output_type": "stream",
     "text": [
      " Volume in drive C has no label.\n",
      " Volume Serial Number is B65F-66D5\n",
      "\n",
      " Directory of C:\\Users\\TOSHIBA\n",
      "\n",
      "28-02-2023  08:53    <DIR>          .\n",
      "28-02-2023  08:53    <DIR>          ..\n",
      "24-02-2023  19:44    <DIR>          .cache\n",
      "01-03-2023  09:57    <DIR>          .conda\n",
      "01-02-2023  16:02                25 .condarc\n",
      "01-02-2023  16:01    <DIR>          .continuum\n",
      "16-02-2023  11:36    <DIR>          .cufflinks\n",
      "24-02-2023  21:13                33 .gitconfig\n",
      "08-02-2023  12:20    <DIR>          .idlerc\n",
      "25-02-2023  22:42    <DIR>          .ipynb_checkpoints\n",
      "01-02-2023  16:01    <DIR>          .ipython\n",
      "01-02-2023  16:01    <DIR>          .jupyter\n",
      "01-02-2023  16:01    <DIR>          .matplotlib\n",
      "27-02-2023  23:54    <DIR>          .spyder-py3\n",
      "16-02-2023  21:31    <DIR>          .vscode\n",
      "06-12-2019  23:04    <DIR>          3D Objects\n",
      "24-02-2023  16:55    <DIR>          anaconda3\n",
      "16-02-2023  15:18             2,663 API.ipynb\n",
      "06-12-2019  23:04    <DIR>          Contacts\n",
      "01-02-2023  19:20    <DIR>          Documents\n",
      "27-02-2023  23:06    <DIR>          Downloads\n",
      "06-12-2019  23:04    <DIR>          Favorites\n",
      "27-02-2023  23:54    <DIR>          Jedi\n",
      "06-12-2019  23:04    <DIR>          Links\n",
      "16-02-2023  12:10         1,113,962 Matplotlib and Graphs.ipynb\n",
      "06-12-2019  23:04    <DIR>          Music\n",
      "16-02-2023  09:32            61,132 Numpy.ipynb\n",
      "28-02-2023  08:53           173,881 Numpy_1.ipynb\n",
      "01-03-2023  09:34    <DIR>          OneDrive\n",
      "15-02-2023  12:24           411,860 Pandas .ipynb\n",
      "17-02-2023  10:40    <DIR>          Postman\n",
      "06-12-2019  23:04    <DIR>          Saved Games\n",
      "16-02-2023  11:37    <DIR>          seaborn-data\n",
      "06-12-2019  23:05    <DIR>          Searches\n",
      "28-02-2023  08:44               103 Studentdata.txt\n",
      "28-02-2023  08:45               105 Studentdata1.txt\n",
      "01-03-2023  09:57                60 Studentdata2.txt\n",
      "26-02-2023  15:53           177,637 Untitled.ipynb\n",
      "01-02-2023  20:53    <DIR>          Videos\n",
      "              11 File(s)      1,941,461 bytes\n",
      "              28 Dir(s)  119,213,305,856 bytes free\n",
      " Volume in drive C has no label.\n",
      " Volume Serial Number is B65F-66D5\n",
      "\n",
      " Directory of C:\\Users\\TOSHIBA\n",
      "\n",
      "28-02-2023  08:53    <DIR>          .\n",
      "28-02-2023  08:53    <DIR>          ..\n",
      "24-02-2023  19:44    <DIR>          .cache\n",
      "01-03-2023  09:57    <DIR>          .conda\n",
      "01-02-2023  16:02                25 .condarc\n",
      "01-02-2023  16:01    <DIR>          .continuum\n",
      "16-02-2023  11:36    <DIR>          .cufflinks\n",
      "24-02-2023  21:13                33 .gitconfig\n",
      "08-02-2023  12:20    <DIR>          .idlerc\n",
      "25-02-2023  22:42    <DIR>          .ipynb_checkpoints\n",
      "01-02-2023  16:01    <DIR>          .ipython\n",
      "01-02-2023  16:01    <DIR>          .jupyter\n",
      "01-02-2023  16:01    <DIR>          .matplotlib\n",
      "27-02-2023  23:54    <DIR>          .spyder-py3\n",
      "16-02-2023  21:31    <DIR>          .vscode\n",
      "06-12-2019  23:04    <DIR>          3D Objects\n",
      "24-02-2023  16:55    <DIR>          anaconda3\n",
      "16-02-2023  15:18             2,663 API.ipynb\n",
      "06-12-2019  23:04    <DIR>          Contacts\n",
      "01-02-2023  19:20    <DIR>          Documents\n",
      "27-02-2023  23:06    <DIR>          Downloads\n",
      "06-12-2019  23:04    <DIR>          Favorites\n",
      "27-02-2023  23:54    <DIR>          Jedi\n",
      "06-12-2019  23:04    <DIR>          Links\n",
      "16-02-2023  12:10         1,113,962 Matplotlib and Graphs.ipynb\n",
      "06-12-2019  23:04    <DIR>          Music\n",
      "16-02-2023  09:32            61,132 Numpy.ipynb\n",
      "28-02-2023  08:53           173,881 Numpy_1.ipynb\n",
      "01-03-2023  09:34    <DIR>          OneDrive\n",
      "15-02-2023  12:24           411,860 Pandas .ipynb\n",
      "17-02-2023  10:40    <DIR>          Postman\n",
      "06-12-2019  23:04    <DIR>          Saved Games\n",
      "16-02-2023  11:37    <DIR>          seaborn-data\n",
      "06-12-2019  23:05    <DIR>          Searches\n",
      "28-02-2023  08:44               103 Studentdata.txt\n",
      "28-02-2023  08:45               105 Studentdata1.txt\n",
      "01-03-2023  09:57                60 Studentdata2.txt\n",
      "26-02-2023  15:53           177,637 Untitled.ipynb\n",
      "01-02-2023  20:53    <DIR>          Videos\n",
      "              11 File(s)      1,941,461 bytes\n",
      "              28 Dir(s)  119,213,305,856 bytes free\n"
     ]
    }
   ],
   "source": [
    "ls"
   ]
  },
  {
   "cell_type": "code",
   "execution_count": 149,
   "id": "527f8a84",
   "metadata": {},
   "outputs": [],
   "source": [
    "arr26=np.loadtxt(\"studentdata2.txt\",delimiter=\",\",dtype=int)"
   ]
  },
  {
   "cell_type": "code",
   "execution_count": 157,
   "id": "500c7f37",
   "metadata": {},
   "outputs": [
    {
     "data": {
      "text/plain": [
       "array([[ 1, 36, 18, 57],\n",
       "       [ 2, 55, 23, 45],\n",
       "       [ 3, 43, 51, 55],\n",
       "       [ 4, 41, 40, 60],\n",
       "       [ 5, 13, 18, 55]])"
      ]
     },
     "execution_count": 157,
     "metadata": {},
     "output_type": "execute_result"
    },
    {
     "data": {
      "text/plain": [
       "array([[ 1, 36, 18, 57],\n",
       "       [ 2, 55, 23, 45],\n",
       "       [ 3, 43, 51, 55],\n",
       "       [ 4, 41, 40, 60],\n",
       "       [ 5, 13, 18, 55]])"
      ]
     },
     "execution_count": 157,
     "metadata": {},
     "output_type": "execute_result"
    }
   ],
   "source": [
    "arr26"
   ]
  },
  {
   "cell_type": "code",
   "execution_count": 158,
   "id": "4c1c851a",
   "metadata": {},
   "outputs": [
    {
     "name": "stdout",
     "output_type": "stream",
     "text": [
      " Volume in drive C has no label.\n",
      " Volume Serial Number is B65F-66D5\n",
      "\n",
      " Directory of C:\\Users\\TOSHIBA\n",
      "\n",
      "01-03-2023  10:05    <DIR>          .\n",
      "01-03-2023  10:05    <DIR>          ..\n",
      "24-02-2023  19:44    <DIR>          .cache\n",
      "01-03-2023  10:07    <DIR>          .conda\n",
      "01-02-2023  16:02                25 .condarc\n",
      "01-02-2023  16:01    <DIR>          .continuum\n",
      "16-02-2023  11:36    <DIR>          .cufflinks\n",
      "24-02-2023  21:13                33 .gitconfig\n",
      "08-02-2023  12:20    <DIR>          .idlerc\n",
      "25-02-2023  22:42    <DIR>          .ipynb_checkpoints\n",
      "01-02-2023  16:01    <DIR>          .ipython\n",
      "01-02-2023  16:01    <DIR>          .jupyter\n",
      "01-02-2023  16:01    <DIR>          .matplotlib\n",
      "27-02-2023  23:54    <DIR>          .spyder-py3\n",
      "16-02-2023  21:31    <DIR>          .vscode\n",
      "06-12-2019  23:04    <DIR>          3D Objects\n",
      "24-02-2023  16:55    <DIR>          anaconda3\n",
      "16-02-2023  15:18             2,663 API.ipynb\n",
      "06-12-2019  23:04    <DIR>          Contacts\n",
      "01-02-2023  19:20    <DIR>          Documents\n",
      "01-03-2023  10:06    <DIR>          Downloads\n",
      "06-12-2019  23:04    <DIR>          Favorites\n",
      "27-02-2023  23:54    <DIR>          Jedi\n",
      "06-12-2019  23:04    <DIR>          Links\n",
      "16-02-2023  12:10         1,113,962 Matplotlib and Graphs.ipynb\n",
      "06-12-2019  23:04    <DIR>          Music\n",
      "16-02-2023  09:32            61,132 Numpy.ipynb\n",
      "01-03-2023  10:05           315,191 Numpy_1.ipynb\n",
      "01-03-2023  09:34    <DIR>          OneDrive\n",
      "15-02-2023  12:24           411,860 Pandas .ipynb\n",
      "17-02-2023  10:40    <DIR>          Postman\n",
      "06-12-2019  23:04    <DIR>          Saved Games\n",
      "16-02-2023  11:37    <DIR>          seaborn-data\n",
      "06-12-2019  23:05    <DIR>          Searches\n",
      "28-02-2023  08:44               103 Studentdata.txt\n",
      "28-02-2023  08:45               105 Studentdata1.txt\n",
      "01-03-2023  09:57                60 Studentdata2.txt\n",
      "26-02-2023  15:53           177,637 Untitled.ipynb\n",
      "01-02-2023  20:53    <DIR>          Videos\n",
      "              11 File(s)      2,082,771 bytes\n",
      "              28 Dir(s)  119,215,194,112 bytes free\n",
      " Volume in drive C has no label.\n",
      " Volume Serial Number is B65F-66D5\n",
      "\n",
      " Directory of C:\\Users\\TOSHIBA\n",
      "\n",
      "01-03-2023  10:05    <DIR>          .\n",
      "01-03-2023  10:05    <DIR>          ..\n",
      "24-02-2023  19:44    <DIR>          .cache\n",
      "01-03-2023  10:07    <DIR>          .conda\n",
      "01-02-2023  16:02                25 .condarc\n",
      "01-02-2023  16:01    <DIR>          .continuum\n",
      "16-02-2023  11:36    <DIR>          .cufflinks\n",
      "24-02-2023  21:13                33 .gitconfig\n",
      "08-02-2023  12:20    <DIR>          .idlerc\n",
      "25-02-2023  22:42    <DIR>          .ipynb_checkpoints\n",
      "01-02-2023  16:01    <DIR>          .ipython\n",
      "01-02-2023  16:01    <DIR>          .jupyter\n",
      "01-02-2023  16:01    <DIR>          .matplotlib\n",
      "27-02-2023  23:54    <DIR>          .spyder-py3\n",
      "16-02-2023  21:31    <DIR>          .vscode\n",
      "06-12-2019  23:04    <DIR>          3D Objects\n",
      "24-02-2023  16:55    <DIR>          anaconda3\n",
      "16-02-2023  15:18             2,663 API.ipynb\n",
      "06-12-2019  23:04    <DIR>          Contacts\n",
      "01-02-2023  19:20    <DIR>          Documents\n",
      "01-03-2023  10:06    <DIR>          Downloads\n",
      "06-12-2019  23:04    <DIR>          Favorites\n",
      "27-02-2023  23:54    <DIR>          Jedi\n",
      "06-12-2019  23:04    <DIR>          Links\n",
      "16-02-2023  12:10         1,113,962 Matplotlib and Graphs.ipynb\n",
      "06-12-2019  23:04    <DIR>          Music\n",
      "16-02-2023  09:32            61,132 Numpy.ipynb\n",
      "01-03-2023  10:05           315,191 Numpy_1.ipynb\n",
      "01-03-2023  09:34    <DIR>          OneDrive\n",
      "15-02-2023  12:24           411,860 Pandas .ipynb\n",
      "17-02-2023  10:40    <DIR>          Postman\n",
      "06-12-2019  23:04    <DIR>          Saved Games\n",
      "16-02-2023  11:37    <DIR>          seaborn-data\n",
      "06-12-2019  23:05    <DIR>          Searches\n",
      "28-02-2023  08:44               103 Studentdata.txt\n",
      "28-02-2023  08:45               105 Studentdata1.txt\n",
      "01-03-2023  09:57                60 Studentdata2.txt\n",
      "26-02-2023  15:53           177,637 Untitled.ipynb\n",
      "01-02-2023  20:53    <DIR>          Videos\n",
      "              11 File(s)      2,082,771 bytes\n",
      "              28 Dir(s)  119,215,194,112 bytes free\n"
     ]
    }
   ],
   "source": [
    "ls"
   ]
  },
  {
   "cell_type": "code",
   "execution_count": null,
   "id": "e5d10e68",
   "metadata": {},
   "outputs": [],
   "source": []
  }
 ],
 "metadata": {
  "kernelspec": {
   "display_name": "Python 3 (ipykernel)",
   "language": "python",
   "name": "python3"
  },
  "language_info": {
   "codemirror_mode": {
    "name": "ipython",
    "version": 3
   },
   "file_extension": ".py",
   "mimetype": "text/x-python",
   "name": "python",
   "nbconvert_exporter": "python",
   "pygments_lexer": "ipython3",
   "version": "3.9.13"
  }
 },
 "nbformat": 4,
 "nbformat_minor": 5
}
